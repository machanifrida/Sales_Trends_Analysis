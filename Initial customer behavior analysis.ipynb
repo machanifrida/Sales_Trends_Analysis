{
 "cells": [
  {
   "cell_type": "markdown",
   "id": "307a3463",
   "metadata": {
    "papermill": {
     "duration": 0.011561,
     "end_time": "2025-02-19T09:52:36.922064",
     "exception": false,
     "start_time": "2025-02-19T09:52:36.910503",
     "status": "completed"
    },
    "tags": []
   },
   "source": [
    "# **INITIAL CUSTOMER BEHAVIOR ANALYSIS**"
   ]
  },
  {
   "cell_type": "markdown",
   "id": "80d85bb7",
   "metadata": {
    "papermill": {
     "duration": 0.009614,
     "end_time": "2025-02-19T09:52:36.941871",
     "exception": false,
     "start_time": "2025-02-19T09:52:36.932257",
     "status": "completed"
    },
    "tags": []
   },
   "source": [
    "The dataset consist of only one-off purchases. In this notebook I have analyzed initial purchasing behavior, spending patterns and store preferences. "
   ]
  },
  {
   "cell_type": "code",
   "execution_count": 1,
   "id": "53703ae3",
   "metadata": {
    "execution": {
     "iopub.execute_input": "2025-02-19T09:52:36.963626Z",
     "iopub.status.busy": "2025-02-19T09:52:36.963144Z",
     "iopub.status.idle": "2025-02-19T09:52:37.996254Z",
     "shell.execute_reply": "2025-02-19T09:52:37.994836Z"
    },
    "papermill": {
     "duration": 1.046351,
     "end_time": "2025-02-19T09:52:37.998409",
     "exception": false,
     "start_time": "2025-02-19T09:52:36.952058",
     "status": "completed"
    },
    "tags": []
   },
   "outputs": [
    {
     "name": "stdout",
     "output_type": "stream",
     "text": [
      "/kaggle/input/istanbul-mall/customer_data.xlsx\n",
      "/kaggle/input/istanbul-mall/shopping_mall_data.xlsx\n",
      "/kaggle/input/istanbul-mall/sales_data.xlsx\n"
     ]
    }
   ],
   "source": [
    "# This Python 3 environment comes with many helpful analytics libraries installed\n",
    "# It is defined by the kaggle/python Docker image: https://github.com/kaggle/docker-python\n",
    "# For example, here's several helpful packages to load\n",
    "\n",
    "import numpy as np # linear algebra\n",
    "import pandas as pd # data processing, CSV file I/O (e.g. pd.read_csv)\n",
    "\n",
    "# Input data files are available in the read-only \"../input/\" directory\n",
    "# For example, running this (by clicking run or pressing Shift+Enter) will list all files under the input directory\n",
    "\n",
    "import os\n",
    "for dirname, _, filenames in os.walk('/kaggle/input'):\n",
    "    for filename in filenames:\n",
    "        print(os.path.join(dirname, filename))\n",
    "\n",
    "# You can write up to 20GB to the current directory (/kaggle/working/) that gets preserved as output when you create a version using \"Save & Run All\" \n",
    "# You can also write temporary files to /kaggle/temp/, but they won't be saved outside of the current session"
   ]
  },
  {
   "cell_type": "code",
   "execution_count": 2,
   "id": "cd15ef96",
   "metadata": {
    "execution": {
     "iopub.execute_input": "2025-02-19T09:52:38.022302Z",
     "iopub.status.busy": "2025-02-19T09:52:38.021805Z",
     "iopub.status.idle": "2025-02-19T09:52:40.591407Z",
     "shell.execute_reply": "2025-02-19T09:52:40.590050Z"
    },
    "papermill": {
     "duration": 2.584799,
     "end_time": "2025-02-19T09:52:40.594220",
     "exception": false,
     "start_time": "2025-02-19T09:52:38.009421",
     "status": "completed"
    },
    "tags": []
   },
   "outputs": [],
   "source": [
    "# import libraries\n",
    "import pandas as pd\n",
    "import numpy as np\n",
    "import seaborn as sns\n",
    "import matplotlib.pyplot as plt\n",
    "from sklearn.cluster import KMeans\n",
    "from sklearn.preprocessing import StandardScaler"
   ]
  },
  {
   "cell_type": "code",
   "execution_count": 3,
   "id": "390e52d4",
   "metadata": {
    "execution": {
     "iopub.execute_input": "2025-02-19T09:52:40.619218Z",
     "iopub.status.busy": "2025-02-19T09:52:40.618492Z",
     "iopub.status.idle": "2025-02-19T09:53:01.716255Z",
     "shell.execute_reply": "2025-02-19T09:53:01.714812Z"
    },
    "papermill": {
     "duration": 21.112759,
     "end_time": "2025-02-19T09:53:01.718571",
     "exception": false,
     "start_time": "2025-02-19T09:52:40.605812",
     "status": "completed"
    },
    "tags": []
   },
   "outputs": [],
   "source": [
    "#load the datasets\n",
    "sales = pd.read_excel(\"/kaggle/input/istanbul-mall/sales_data.xlsx\")\n",
    "customer = pd.read_excel(\"/kaggle/input/istanbul-mall/customer_data.xlsx\")\n",
    "mall = pd.read_excel(\"/kaggle/input/istanbul-mall/shopping_mall_data.xlsx\")"
   ]
  },
  {
   "cell_type": "code",
   "execution_count": 4,
   "id": "f0935a18",
   "metadata": {
    "execution": {
     "iopub.execute_input": "2025-02-19T09:53:01.742017Z",
     "iopub.status.busy": "2025-02-19T09:53:01.741415Z",
     "iopub.status.idle": "2025-02-19T09:53:01.773348Z",
     "shell.execute_reply": "2025-02-19T09:53:01.771975Z"
    },
    "papermill": {
     "duration": 0.046292,
     "end_time": "2025-02-19T09:53:01.775808",
     "exception": false,
     "start_time": "2025-02-19T09:53:01.729516",
     "status": "completed"
    },
    "tags": []
   },
   "outputs": [
    {
     "data": {
      "text/html": [
       "<div>\n",
       "<style scoped>\n",
       "    .dataframe tbody tr th:only-of-type {\n",
       "        vertical-align: middle;\n",
       "    }\n",
       "\n",
       "    .dataframe tbody tr th {\n",
       "        vertical-align: top;\n",
       "    }\n",
       "\n",
       "    .dataframe thead th {\n",
       "        text-align: right;\n",
       "    }\n",
       "</style>\n",
       "<table border=\"1\" class=\"dataframe\">\n",
       "  <thead>\n",
       "    <tr style=\"text-align: right;\">\n",
       "      <th></th>\n",
       "      <th>invoice_no</th>\n",
       "      <th>customer_id</th>\n",
       "      <th>category</th>\n",
       "      <th>quantity</th>\n",
       "      <th>invoice date</th>\n",
       "      <th>price</th>\n",
       "      <th>shopping_mall</th>\n",
       "    </tr>\n",
       "  </thead>\n",
       "  <tbody>\n",
       "    <tr>\n",
       "      <th>0</th>\n",
       "      <td>I138884</td>\n",
       "      <td>C241288</td>\n",
       "      <td>Clothing</td>\n",
       "      <td>5</td>\n",
       "      <td>05/08/2022</td>\n",
       "      <td>1500.40</td>\n",
       "      <td>South Coast Plaza</td>\n",
       "    </tr>\n",
       "    <tr>\n",
       "      <th>1</th>\n",
       "      <td>I317333</td>\n",
       "      <td>C111565</td>\n",
       "      <td>Shoes</td>\n",
       "      <td>3</td>\n",
       "      <td>12/12/2021</td>\n",
       "      <td>1800.51</td>\n",
       "      <td>Beverly Center</td>\n",
       "    </tr>\n",
       "    <tr>\n",
       "      <th>2</th>\n",
       "      <td>I127801</td>\n",
       "      <td>C266599</td>\n",
       "      <td>Clothing</td>\n",
       "      <td>1</td>\n",
       "      <td>09/11/2021</td>\n",
       "      <td>300.08</td>\n",
       "      <td>Westfield Century City</td>\n",
       "    </tr>\n",
       "    <tr>\n",
       "      <th>3</th>\n",
       "      <td>I173702</td>\n",
       "      <td>C988172</td>\n",
       "      <td>Shoes</td>\n",
       "      <td>5</td>\n",
       "      <td>05/16/2021</td>\n",
       "      <td>3000.85</td>\n",
       "      <td>Stanford Shopping Center</td>\n",
       "    </tr>\n",
       "    <tr>\n",
       "      <th>4</th>\n",
       "      <td>I337046</td>\n",
       "      <td>C189076</td>\n",
       "      <td>Books</td>\n",
       "      <td>4</td>\n",
       "      <td>10/24/2021</td>\n",
       "      <td>60.60</td>\n",
       "      <td>South Coast Plaza</td>\n",
       "    </tr>\n",
       "  </tbody>\n",
       "</table>\n",
       "</div>"
      ],
      "text/plain": [
       "  invoice_no customer_id  category  quantity invoice date    price  \\\n",
       "0    I138884     C241288  Clothing         5   05/08/2022  1500.40   \n",
       "1    I317333     C111565     Shoes         3   12/12/2021  1800.51   \n",
       "2    I127801     C266599  Clothing         1   09/11/2021   300.08   \n",
       "3    I173702     C988172     Shoes         5   05/16/2021  3000.85   \n",
       "4    I337046     C189076     Books         4   10/24/2021    60.60   \n",
       "\n",
       "              shopping_mall  \n",
       "0         South Coast Plaza  \n",
       "1            Beverly Center  \n",
       "2    Westfield Century City  \n",
       "3  Stanford Shopping Center  \n",
       "4         South Coast Plaza  "
      ]
     },
     "execution_count": 4,
     "metadata": {},
     "output_type": "execute_result"
    }
   ],
   "source": [
    "sales.head(5)"
   ]
  },
  {
   "cell_type": "code",
   "execution_count": 5,
   "id": "cfeadbd4",
   "metadata": {
    "execution": {
     "iopub.execute_input": "2025-02-19T09:53:01.799215Z",
     "iopub.status.busy": "2025-02-19T09:53:01.798828Z",
     "iopub.status.idle": "2025-02-19T09:53:01.810049Z",
     "shell.execute_reply": "2025-02-19T09:53:01.808655Z"
    },
    "papermill": {
     "duration": 0.025247,
     "end_time": "2025-02-19T09:53:01.812113",
     "exception": false,
     "start_time": "2025-02-19T09:53:01.786866",
     "status": "completed"
    },
    "tags": []
   },
   "outputs": [
    {
     "data": {
      "text/html": [
       "<div>\n",
       "<style scoped>\n",
       "    .dataframe tbody tr th:only-of-type {\n",
       "        vertical-align: middle;\n",
       "    }\n",
       "\n",
       "    .dataframe tbody tr th {\n",
       "        vertical-align: top;\n",
       "    }\n",
       "\n",
       "    .dataframe thead th {\n",
       "        text-align: right;\n",
       "    }\n",
       "</style>\n",
       "<table border=\"1\" class=\"dataframe\">\n",
       "  <thead>\n",
       "    <tr style=\"text-align: right;\">\n",
       "      <th></th>\n",
       "      <th>customer_id</th>\n",
       "      <th>gender</th>\n",
       "      <th>age</th>\n",
       "      <th>payment_method</th>\n",
       "    </tr>\n",
       "  </thead>\n",
       "  <tbody>\n",
       "    <tr>\n",
       "      <th>0</th>\n",
       "      <td>C241288</td>\n",
       "      <td>Female</td>\n",
       "      <td>28.0</td>\n",
       "      <td>Credit Card</td>\n",
       "    </tr>\n",
       "    <tr>\n",
       "      <th>1</th>\n",
       "      <td>C111565</td>\n",
       "      <td>Male</td>\n",
       "      <td>21.0</td>\n",
       "      <td>Debit Card</td>\n",
       "    </tr>\n",
       "    <tr>\n",
       "      <th>2</th>\n",
       "      <td>C266599</td>\n",
       "      <td>Male</td>\n",
       "      <td>20.0</td>\n",
       "      <td>Cash</td>\n",
       "    </tr>\n",
       "    <tr>\n",
       "      <th>3</th>\n",
       "      <td>C988172</td>\n",
       "      <td>Female</td>\n",
       "      <td>66.0</td>\n",
       "      <td>Credit Card</td>\n",
       "    </tr>\n",
       "    <tr>\n",
       "      <th>4</th>\n",
       "      <td>C189076</td>\n",
       "      <td>Female</td>\n",
       "      <td>53.0</td>\n",
       "      <td>Cash</td>\n",
       "    </tr>\n",
       "  </tbody>\n",
       "</table>\n",
       "</div>"
      ],
      "text/plain": [
       "  customer_id  gender   age payment_method\n",
       "0     C241288  Female  28.0    Credit Card\n",
       "1     C111565    Male  21.0     Debit Card\n",
       "2     C266599    Male  20.0           Cash\n",
       "3     C988172  Female  66.0    Credit Card\n",
       "4     C189076  Female  53.0           Cash"
      ]
     },
     "execution_count": 5,
     "metadata": {},
     "output_type": "execute_result"
    }
   ],
   "source": [
    "customer.head(5)"
   ]
  },
  {
   "cell_type": "code",
   "execution_count": 6,
   "id": "8d3a34b2",
   "metadata": {
    "execution": {
     "iopub.execute_input": "2025-02-19T09:53:01.835862Z",
     "iopub.status.busy": "2025-02-19T09:53:01.835401Z",
     "iopub.status.idle": "2025-02-19T09:53:01.847913Z",
     "shell.execute_reply": "2025-02-19T09:53:01.846578Z"
    },
    "papermill": {
     "duration": 0.026483,
     "end_time": "2025-02-19T09:53:01.849986",
     "exception": false,
     "start_time": "2025-02-19T09:53:01.823503",
     "status": "completed"
    },
    "tags": []
   },
   "outputs": [
    {
     "data": {
      "text/html": [
       "<div>\n",
       "<style scoped>\n",
       "    .dataframe tbody tr th:only-of-type {\n",
       "        vertical-align: middle;\n",
       "    }\n",
       "\n",
       "    .dataframe tbody tr th {\n",
       "        vertical-align: top;\n",
       "    }\n",
       "\n",
       "    .dataframe thead th {\n",
       "        text-align: right;\n",
       "    }\n",
       "</style>\n",
       "<table border=\"1\" class=\"dataframe\">\n",
       "  <thead>\n",
       "    <tr style=\"text-align: right;\">\n",
       "      <th></th>\n",
       "      <th>shopping_mall</th>\n",
       "      <th>construction_year</th>\n",
       "      <th>area (sqm)</th>\n",
       "      <th>location</th>\n",
       "      <th>store_count</th>\n",
       "    </tr>\n",
       "  </thead>\n",
       "  <tbody>\n",
       "    <tr>\n",
       "      <th>0</th>\n",
       "      <td>South Coast Plaza</td>\n",
       "      <td>1967</td>\n",
       "      <td>250000</td>\n",
       "      <td>Costa Mesa</td>\n",
       "      <td>270</td>\n",
       "    </tr>\n",
       "    <tr>\n",
       "      <th>1</th>\n",
       "      <td>Westfield Valley Fair</td>\n",
       "      <td>1986</td>\n",
       "      <td>220000</td>\n",
       "      <td>Santa Clara</td>\n",
       "      <td>230</td>\n",
       "    </tr>\n",
       "    <tr>\n",
       "      <th>2</th>\n",
       "      <td>The Grove</td>\n",
       "      <td>2002</td>\n",
       "      <td>56000</td>\n",
       "      <td>Los Angeles</td>\n",
       "      <td>140</td>\n",
       "    </tr>\n",
       "    <tr>\n",
       "      <th>3</th>\n",
       "      <td>Westfield Century City</td>\n",
       "      <td>1964</td>\n",
       "      <td>133000</td>\n",
       "      <td>Los Angeles</td>\n",
       "      <td>200</td>\n",
       "    </tr>\n",
       "    <tr>\n",
       "      <th>4</th>\n",
       "      <td>Beverly Center</td>\n",
       "      <td>1982</td>\n",
       "      <td>111000</td>\n",
       "      <td>Los Angeles</td>\n",
       "      <td>160</td>\n",
       "    </tr>\n",
       "  </tbody>\n",
       "</table>\n",
       "</div>"
      ],
      "text/plain": [
       "            shopping_mall  construction_year  area (sqm)     location  \\\n",
       "0       South Coast Plaza               1967      250000   Costa Mesa   \n",
       "1   Westfield Valley Fair               1986      220000  Santa Clara   \n",
       "2               The Grove               2002       56000  Los Angeles   \n",
       "3  Westfield Century City               1964      133000  Los Angeles   \n",
       "4          Beverly Center               1982      111000  Los Angeles   \n",
       "\n",
       "   store_count  \n",
       "0          270  \n",
       "1          230  \n",
       "2          140  \n",
       "3          200  \n",
       "4          160  "
      ]
     },
     "execution_count": 6,
     "metadata": {},
     "output_type": "execute_result"
    }
   ],
   "source": [
    "mall.head(5)"
   ]
  },
  {
   "cell_type": "code",
   "execution_count": 7,
   "id": "8f3e1a57",
   "metadata": {
    "execution": {
     "iopub.execute_input": "2025-02-19T09:53:01.875280Z",
     "iopub.status.busy": "2025-02-19T09:53:01.874673Z",
     "iopub.status.idle": "2025-02-19T09:53:02.031589Z",
     "shell.execute_reply": "2025-02-19T09:53:02.030253Z"
    },
    "papermill": {
     "duration": 0.172026,
     "end_time": "2025-02-19T09:53:02.033654",
     "exception": false,
     "start_time": "2025-02-19T09:53:01.861628",
     "status": "completed"
    },
    "tags": []
   },
   "outputs": [
    {
     "data": {
      "text/html": [
       "<div>\n",
       "<style scoped>\n",
       "    .dataframe tbody tr th:only-of-type {\n",
       "        vertical-align: middle;\n",
       "    }\n",
       "\n",
       "    .dataframe tbody tr th {\n",
       "        vertical-align: top;\n",
       "    }\n",
       "\n",
       "    .dataframe thead th {\n",
       "        text-align: right;\n",
       "    }\n",
       "</style>\n",
       "<table border=\"1\" class=\"dataframe\">\n",
       "  <thead>\n",
       "    <tr style=\"text-align: right;\">\n",
       "      <th></th>\n",
       "      <th>invoice_no</th>\n",
       "      <th>customer_id</th>\n",
       "      <th>category</th>\n",
       "      <th>quantity</th>\n",
       "      <th>invoice date</th>\n",
       "      <th>price</th>\n",
       "      <th>shopping_mall</th>\n",
       "      <th>gender</th>\n",
       "      <th>age</th>\n",
       "      <th>payment_method</th>\n",
       "    </tr>\n",
       "  </thead>\n",
       "  <tbody>\n",
       "    <tr>\n",
       "      <th>0</th>\n",
       "      <td>I138884</td>\n",
       "      <td>C241288</td>\n",
       "      <td>Clothing</td>\n",
       "      <td>5</td>\n",
       "      <td>05/08/2022</td>\n",
       "      <td>1500.40</td>\n",
       "      <td>South Coast Plaza</td>\n",
       "      <td>Female</td>\n",
       "      <td>28.0</td>\n",
       "      <td>Credit Card</td>\n",
       "    </tr>\n",
       "    <tr>\n",
       "      <th>1</th>\n",
       "      <td>I317333</td>\n",
       "      <td>C111565</td>\n",
       "      <td>Shoes</td>\n",
       "      <td>3</td>\n",
       "      <td>12/12/2021</td>\n",
       "      <td>1800.51</td>\n",
       "      <td>Beverly Center</td>\n",
       "      <td>Male</td>\n",
       "      <td>21.0</td>\n",
       "      <td>Debit Card</td>\n",
       "    </tr>\n",
       "    <tr>\n",
       "      <th>2</th>\n",
       "      <td>I127801</td>\n",
       "      <td>C266599</td>\n",
       "      <td>Clothing</td>\n",
       "      <td>1</td>\n",
       "      <td>09/11/2021</td>\n",
       "      <td>300.08</td>\n",
       "      <td>Westfield Century City</td>\n",
       "      <td>Male</td>\n",
       "      <td>20.0</td>\n",
       "      <td>Cash</td>\n",
       "    </tr>\n",
       "    <tr>\n",
       "      <th>3</th>\n",
       "      <td>I173702</td>\n",
       "      <td>C988172</td>\n",
       "      <td>Shoes</td>\n",
       "      <td>5</td>\n",
       "      <td>05/16/2021</td>\n",
       "      <td>3000.85</td>\n",
       "      <td>Stanford Shopping Center</td>\n",
       "      <td>Female</td>\n",
       "      <td>66.0</td>\n",
       "      <td>Credit Card</td>\n",
       "    </tr>\n",
       "    <tr>\n",
       "      <th>4</th>\n",
       "      <td>I337046</td>\n",
       "      <td>C189076</td>\n",
       "      <td>Books</td>\n",
       "      <td>4</td>\n",
       "      <td>10/24/2021</td>\n",
       "      <td>60.60</td>\n",
       "      <td>South Coast Plaza</td>\n",
       "      <td>Female</td>\n",
       "      <td>53.0</td>\n",
       "      <td>Cash</td>\n",
       "    </tr>\n",
       "  </tbody>\n",
       "</table>\n",
       "</div>"
      ],
      "text/plain": [
       "  invoice_no customer_id  category  quantity invoice date    price  \\\n",
       "0    I138884     C241288  Clothing         5   05/08/2022  1500.40   \n",
       "1    I317333     C111565     Shoes         3   12/12/2021  1800.51   \n",
       "2    I127801     C266599  Clothing         1   09/11/2021   300.08   \n",
       "3    I173702     C988172     Shoes         5   05/16/2021  3000.85   \n",
       "4    I337046     C189076     Books         4   10/24/2021    60.60   \n",
       "\n",
       "              shopping_mall  gender   age payment_method  \n",
       "0         South Coast Plaza  Female  28.0    Credit Card  \n",
       "1            Beverly Center    Male  21.0     Debit Card  \n",
       "2    Westfield Century City    Male  20.0           Cash  \n",
       "3  Stanford Shopping Center  Female  66.0    Credit Card  \n",
       "4         South Coast Plaza  Female  53.0           Cash  "
      ]
     },
     "execution_count": 7,
     "metadata": {},
     "output_type": "execute_result"
    }
   ],
   "source": [
    "#mearge the data\n",
    "df = pd.merge(sales, customer,  on= \"customer_id\")\n",
    "df.head(5)"
   ]
  },
  {
   "cell_type": "code",
   "execution_count": 8,
   "id": "a48f19ca",
   "metadata": {
    "execution": {
     "iopub.execute_input": "2025-02-19T09:53:02.057279Z",
     "iopub.status.busy": "2025-02-19T09:53:02.056860Z",
     "iopub.status.idle": "2025-02-19T09:53:02.159153Z",
     "shell.execute_reply": "2025-02-19T09:53:02.157904Z"
    },
    "papermill": {
     "duration": 0.117188,
     "end_time": "2025-02-19T09:53:02.161969",
     "exception": false,
     "start_time": "2025-02-19T09:53:02.044781",
     "status": "completed"
    },
    "tags": []
   },
   "outputs": [
    {
     "data": {
      "text/html": [
       "<div>\n",
       "<style scoped>\n",
       "    .dataframe tbody tr th:only-of-type {\n",
       "        vertical-align: middle;\n",
       "    }\n",
       "\n",
       "    .dataframe tbody tr th {\n",
       "        vertical-align: top;\n",
       "    }\n",
       "\n",
       "    .dataframe thead th {\n",
       "        text-align: right;\n",
       "    }\n",
       "</style>\n",
       "<table border=\"1\" class=\"dataframe\">\n",
       "  <thead>\n",
       "    <tr style=\"text-align: right;\">\n",
       "      <th></th>\n",
       "      <th>invoice_no</th>\n",
       "      <th>customer_id</th>\n",
       "      <th>category</th>\n",
       "      <th>quantity</th>\n",
       "      <th>invoice date</th>\n",
       "      <th>price</th>\n",
       "      <th>shopping_mall</th>\n",
       "      <th>gender</th>\n",
       "      <th>age</th>\n",
       "      <th>payment_method</th>\n",
       "      <th>construction_year</th>\n",
       "      <th>area (sqm)</th>\n",
       "      <th>location</th>\n",
       "      <th>store_count</th>\n",
       "    </tr>\n",
       "  </thead>\n",
       "  <tbody>\n",
       "    <tr>\n",
       "      <th>0</th>\n",
       "      <td>I138884</td>\n",
       "      <td>C241288</td>\n",
       "      <td>Clothing</td>\n",
       "      <td>5</td>\n",
       "      <td>05/08/2022</td>\n",
       "      <td>1500.40</td>\n",
       "      <td>South Coast Plaza</td>\n",
       "      <td>Female</td>\n",
       "      <td>28.0</td>\n",
       "      <td>Credit Card</td>\n",
       "      <td>1967</td>\n",
       "      <td>250000</td>\n",
       "      <td>Costa Mesa</td>\n",
       "      <td>270</td>\n",
       "    </tr>\n",
       "    <tr>\n",
       "      <th>1</th>\n",
       "      <td>I317333</td>\n",
       "      <td>C111565</td>\n",
       "      <td>Shoes</td>\n",
       "      <td>3</td>\n",
       "      <td>12/12/2021</td>\n",
       "      <td>1800.51</td>\n",
       "      <td>Beverly Center</td>\n",
       "      <td>Male</td>\n",
       "      <td>21.0</td>\n",
       "      <td>Debit Card</td>\n",
       "      <td>1982</td>\n",
       "      <td>111000</td>\n",
       "      <td>Los Angeles</td>\n",
       "      <td>160</td>\n",
       "    </tr>\n",
       "    <tr>\n",
       "      <th>2</th>\n",
       "      <td>I127801</td>\n",
       "      <td>C266599</td>\n",
       "      <td>Clothing</td>\n",
       "      <td>1</td>\n",
       "      <td>09/11/2021</td>\n",
       "      <td>300.08</td>\n",
       "      <td>Westfield Century City</td>\n",
       "      <td>Male</td>\n",
       "      <td>20.0</td>\n",
       "      <td>Cash</td>\n",
       "      <td>1964</td>\n",
       "      <td>133000</td>\n",
       "      <td>Los Angeles</td>\n",
       "      <td>200</td>\n",
       "    </tr>\n",
       "    <tr>\n",
       "      <th>3</th>\n",
       "      <td>I173702</td>\n",
       "      <td>C988172</td>\n",
       "      <td>Shoes</td>\n",
       "      <td>5</td>\n",
       "      <td>05/16/2021</td>\n",
       "      <td>3000.85</td>\n",
       "      <td>Stanford Shopping Center</td>\n",
       "      <td>Female</td>\n",
       "      <td>66.0</td>\n",
       "      <td>Credit Card</td>\n",
       "      <td>1956</td>\n",
       "      <td>120000</td>\n",
       "      <td>Palo Alto</td>\n",
       "      <td>140</td>\n",
       "    </tr>\n",
       "    <tr>\n",
       "      <th>4</th>\n",
       "      <td>I337046</td>\n",
       "      <td>C189076</td>\n",
       "      <td>Books</td>\n",
       "      <td>4</td>\n",
       "      <td>10/24/2021</td>\n",
       "      <td>60.60</td>\n",
       "      <td>South Coast Plaza</td>\n",
       "      <td>Female</td>\n",
       "      <td>53.0</td>\n",
       "      <td>Cash</td>\n",
       "      <td>1967</td>\n",
       "      <td>250000</td>\n",
       "      <td>Costa Mesa</td>\n",
       "      <td>270</td>\n",
       "    </tr>\n",
       "  </tbody>\n",
       "</table>\n",
       "</div>"
      ],
      "text/plain": [
       "  invoice_no customer_id  category  quantity invoice date    price  \\\n",
       "0    I138884     C241288  Clothing         5   05/08/2022  1500.40   \n",
       "1    I317333     C111565     Shoes         3   12/12/2021  1800.51   \n",
       "2    I127801     C266599  Clothing         1   09/11/2021   300.08   \n",
       "3    I173702     C988172     Shoes         5   05/16/2021  3000.85   \n",
       "4    I337046     C189076     Books         4   10/24/2021    60.60   \n",
       "\n",
       "              shopping_mall  gender   age payment_method  construction_year  \\\n",
       "0         South Coast Plaza  Female  28.0    Credit Card               1967   \n",
       "1            Beverly Center    Male  21.0     Debit Card               1982   \n",
       "2    Westfield Century City    Male  20.0           Cash               1964   \n",
       "3  Stanford Shopping Center  Female  66.0    Credit Card               1956   \n",
       "4         South Coast Plaza  Female  53.0           Cash               1967   \n",
       "\n",
       "   area (sqm)     location  store_count  \n",
       "0      250000   Costa Mesa          270  \n",
       "1      111000  Los Angeles          160  \n",
       "2      133000  Los Angeles          200  \n",
       "3      120000    Palo Alto          140  \n",
       "4      250000   Costa Mesa          270  "
      ]
     },
     "execution_count": 8,
     "metadata": {},
     "output_type": "execute_result"
    }
   ],
   "source": [
    "data = pd.merge(df, mall, on = \"shopping_mall\")\n",
    "data.head(5)"
   ]
  },
  {
   "cell_type": "markdown",
   "id": "45c92b22",
   "metadata": {
    "papermill": {
     "duration": 0.02762,
     "end_time": "2025-02-19T09:53:02.201565",
     "exception": false,
     "start_time": "2025-02-19T09:53:02.173945",
     "status": "completed"
    },
    "tags": []
   },
   "source": [
    "## EDA"
   ]
  },
  {
   "cell_type": "code",
   "execution_count": 9,
   "id": "4ad78b9e",
   "metadata": {
    "execution": {
     "iopub.execute_input": "2025-02-19T09:53:02.226625Z",
     "iopub.status.busy": "2025-02-19T09:53:02.226217Z",
     "iopub.status.idle": "2025-02-19T09:53:02.290010Z",
     "shell.execute_reply": "2025-02-19T09:53:02.288373Z"
    },
    "papermill": {
     "duration": 0.078915,
     "end_time": "2025-02-19T09:53:02.292314",
     "exception": false,
     "start_time": "2025-02-19T09:53:02.213399",
     "status": "completed"
    },
    "tags": []
   },
   "outputs": [
    {
     "name": "stdout",
     "output_type": "stream",
     "text": [
      "<class 'pandas.core.frame.DataFrame'>\n",
      "RangeIndex: 94466 entries, 0 to 94465\n",
      "Data columns (total 14 columns):\n",
      " #   Column             Non-Null Count  Dtype  \n",
      "---  ------             --------------  -----  \n",
      " 0   invoice_no         94466 non-null  object \n",
      " 1   customer_id        94466 non-null  object \n",
      " 2   category           94466 non-null  object \n",
      " 3   quantity           94466 non-null  int64  \n",
      " 4   invoice date       94466 non-null  object \n",
      " 5   price              94466 non-null  float64\n",
      " 6   shopping_mall      94466 non-null  object \n",
      " 7   gender             94466 non-null  object \n",
      " 8   age                94349 non-null  float64\n",
      " 9   payment_method     94466 non-null  object \n",
      " 10  construction_year  94466 non-null  int64  \n",
      " 11  area (sqm)         94466 non-null  int64  \n",
      " 12  location           94466 non-null  object \n",
      " 13  store_count        94466 non-null  int64  \n",
      "dtypes: float64(2), int64(4), object(8)\n",
      "memory usage: 10.1+ MB\n"
     ]
    }
   ],
   "source": [
    "data.info()"
   ]
  },
  {
   "cell_type": "code",
   "execution_count": 10,
   "id": "44ddef5e",
   "metadata": {
    "execution": {
     "iopub.execute_input": "2025-02-19T09:53:02.318306Z",
     "iopub.status.busy": "2025-02-19T09:53:02.317959Z",
     "iopub.status.idle": "2025-02-19T09:53:02.368253Z",
     "shell.execute_reply": "2025-02-19T09:53:02.366835Z"
    },
    "papermill": {
     "duration": 0.064833,
     "end_time": "2025-02-19T09:53:02.370372",
     "exception": false,
     "start_time": "2025-02-19T09:53:02.305539",
     "status": "completed"
    },
    "tags": []
   },
   "outputs": [
    {
     "data": {
      "text/plain": [
       "invoice_no             0\n",
       "customer_id            0\n",
       "category               0\n",
       "quantity               0\n",
       "invoice date           0\n",
       "price                  0\n",
       "shopping_mall          0\n",
       "gender                 0\n",
       "age                  117\n",
       "payment_method         0\n",
       "construction_year      0\n",
       "area (sqm)             0\n",
       "location               0\n",
       "store_count            0\n",
       "dtype: int64"
      ]
     },
     "execution_count": 10,
     "metadata": {},
     "output_type": "execute_result"
    }
   ],
   "source": [
    "data.isnull().sum()"
   ]
  },
  {
   "cell_type": "markdown",
   "id": "ae53fd8c",
   "metadata": {
    "papermill": {
     "duration": 0.010782,
     "end_time": "2025-02-19T09:53:02.393244",
     "exception": false,
     "start_time": "2025-02-19T09:53:02.382462",
     "status": "completed"
    },
    "tags": []
   },
   "source": [
    "There are only few missing values in age column. So I delete them"
   ]
  },
  {
   "cell_type": "code",
   "execution_count": 11,
   "id": "801db632",
   "metadata": {
    "execution": {
     "iopub.execute_input": "2025-02-19T09:53:02.416872Z",
     "iopub.status.busy": "2025-02-19T09:53:02.416395Z",
     "iopub.status.idle": "2025-02-19T09:53:02.472012Z",
     "shell.execute_reply": "2025-02-19T09:53:02.470392Z"
    },
    "papermill": {
     "duration": 0.069786,
     "end_time": "2025-02-19T09:53:02.474168",
     "exception": false,
     "start_time": "2025-02-19T09:53:02.404382",
     "status": "completed"
    },
    "tags": []
   },
   "outputs": [],
   "source": [
    "data.dropna(inplace = True)"
   ]
  },
  {
   "cell_type": "code",
   "execution_count": 12,
   "id": "102669a0",
   "metadata": {
    "execution": {
     "iopub.execute_input": "2025-02-19T09:53:02.498203Z",
     "iopub.status.busy": "2025-02-19T09:53:02.497670Z",
     "iopub.status.idle": "2025-02-19T09:53:02.556498Z",
     "shell.execute_reply": "2025-02-19T09:53:02.555345Z"
    },
    "papermill": {
     "duration": 0.073154,
     "end_time": "2025-02-19T09:53:02.558420",
     "exception": false,
     "start_time": "2025-02-19T09:53:02.485266",
     "status": "completed"
    },
    "tags": []
   },
   "outputs": [
    {
     "data": {
      "text/plain": [
       "invoice_no           0\n",
       "customer_id          0\n",
       "category             0\n",
       "quantity             0\n",
       "invoice date         0\n",
       "price                0\n",
       "shopping_mall        0\n",
       "gender               0\n",
       "age                  0\n",
       "payment_method       0\n",
       "construction_year    0\n",
       "area (sqm)           0\n",
       "location             0\n",
       "store_count          0\n",
       "dtype: int64"
      ]
     },
     "execution_count": 12,
     "metadata": {},
     "output_type": "execute_result"
    }
   ],
   "source": [
    "data.isnull().sum()"
   ]
  },
  {
   "cell_type": "code",
   "execution_count": 13,
   "id": "d0ab9a7b",
   "metadata": {
    "execution": {
     "iopub.execute_input": "2025-02-19T09:53:02.582912Z",
     "iopub.status.busy": "2025-02-19T09:53:02.582375Z",
     "iopub.status.idle": "2025-02-19T09:53:02.632416Z",
     "shell.execute_reply": "2025-02-19T09:53:02.631098Z"
    },
    "papermill": {
     "duration": 0.064591,
     "end_time": "2025-02-19T09:53:02.634371",
     "exception": false,
     "start_time": "2025-02-19T09:53:02.569780",
     "status": "completed"
    },
    "tags": []
   },
   "outputs": [
    {
     "data": {
      "text/plain": [
       "94349"
      ]
     },
     "execution_count": 13,
     "metadata": {},
     "output_type": "execute_result"
    }
   ],
   "source": [
    "data.customer_id.nunique()"
   ]
  },
  {
   "cell_type": "code",
   "execution_count": 14,
   "id": "bf18aaaa",
   "metadata": {
    "execution": {
     "iopub.execute_input": "2025-02-19T09:53:02.658923Z",
     "iopub.status.busy": "2025-02-19T09:53:02.658459Z",
     "iopub.status.idle": "2025-02-19T09:53:02.665850Z",
     "shell.execute_reply": "2025-02-19T09:53:02.664538Z"
    },
    "papermill": {
     "duration": 0.022141,
     "end_time": "2025-02-19T09:53:02.667942",
     "exception": false,
     "start_time": "2025-02-19T09:53:02.645801",
     "status": "completed"
    },
    "tags": []
   },
   "outputs": [
    {
     "data": {
      "text/plain": [
       "(94349, 14)"
      ]
     },
     "execution_count": 14,
     "metadata": {},
     "output_type": "execute_result"
    }
   ],
   "source": [
    "data.shape"
   ]
  },
  {
   "cell_type": "markdown",
   "id": "e39731be",
   "metadata": {
    "papermill": {
     "duration": 0.01173,
     "end_time": "2025-02-19T09:53:02.692014",
     "exception": false,
     "start_time": "2025-02-19T09:53:02.680284",
     "status": "completed"
    },
    "tags": []
   },
   "source": [
    "All customers are unique (one-time buyers). So do customer segmentation based on other features and exclude customer_id"
   ]
  },
  {
   "cell_type": "code",
   "execution_count": 15,
   "id": "a7755e66",
   "metadata": {
    "execution": {
     "iopub.execute_input": "2025-02-19T09:53:02.717103Z",
     "iopub.status.busy": "2025-02-19T09:53:02.716746Z",
     "iopub.status.idle": "2025-02-19T09:53:02.732207Z",
     "shell.execute_reply": "2025-02-19T09:53:02.730982Z"
    },
    "papermill": {
     "duration": 0.030148,
     "end_time": "2025-02-19T09:53:02.734167",
     "exception": false,
     "start_time": "2025-02-19T09:53:02.704019",
     "status": "completed"
    },
    "tags": []
   },
   "outputs": [
    {
     "data": {
      "text/plain": [
       "category\n",
       "Books              14173\n",
       "Clothing           98260\n",
       "Cosmetics          43253\n",
       "Food & Beverage    41939\n",
       "Shoes              28685\n",
       "Souvenir           14135\n",
       "Technology         14239\n",
       "Toys               28730\n",
       "Name: quantity, dtype: int64"
      ]
     },
     "execution_count": 15,
     "metadata": {},
     "output_type": "execute_result"
    }
   ],
   "source": [
    "data.groupby(\"category\")[\"quantity\"].sum()"
   ]
  },
  {
   "cell_type": "markdown",
   "id": "2c1ff005",
   "metadata": {
    "papermill": {
     "duration": 0.011452,
     "end_time": "2025-02-19T09:53:02.757469",
     "exception": false,
     "start_time": "2025-02-19T09:53:02.746017",
     "status": "completed"
    },
    "tags": []
   },
   "source": [
    "Clothing cathegory leads in terms of quantity sold."
   ]
  },
  {
   "cell_type": "markdown",
   "id": "956a190e",
   "metadata": {
    "papermill": {
     "duration": 0.011429,
     "end_time": "2025-02-19T09:53:02.780957",
     "exception": false,
     "start_time": "2025-02-19T09:53:02.769528",
     "status": "completed"
    },
    "tags": []
   },
   "source": [
    "#### Which product categories are bought in large quantities?"
   ]
  },
  {
   "cell_type": "code",
   "execution_count": 16,
   "id": "c609696a",
   "metadata": {
    "execution": {
     "iopub.execute_input": "2025-02-19T09:53:02.806363Z",
     "iopub.status.busy": "2025-02-19T09:53:02.805895Z",
     "iopub.status.idle": "2025-02-19T09:53:02.814188Z",
     "shell.execute_reply": "2025-02-19T09:53:02.813057Z"
    },
    "papermill": {
     "duration": 0.023942,
     "end_time": "2025-02-19T09:53:02.816411",
     "exception": false,
     "start_time": "2025-02-19T09:53:02.792469",
     "status": "completed"
    },
    "tags": []
   },
   "outputs": [
    {
     "data": {
      "text/plain": [
       "array([5, 3, 1, 4, 2])"
      ]
     },
     "execution_count": 16,
     "metadata": {},
     "output_type": "execute_result"
    }
   ],
   "source": [
    "data.quantity.unique()"
   ]
  },
  {
   "cell_type": "code",
   "execution_count": 17,
   "id": "bdf92b2d",
   "metadata": {
    "execution": {
     "iopub.execute_input": "2025-02-19T09:53:02.842748Z",
     "iopub.status.busy": "2025-02-19T09:53:02.842081Z",
     "iopub.status.idle": "2025-02-19T09:53:02.941313Z",
     "shell.execute_reply": "2025-02-19T09:53:02.939833Z"
    },
    "papermill": {
     "duration": 0.115355,
     "end_time": "2025-02-19T09:53:02.943605",
     "exception": false,
     "start_time": "2025-02-19T09:53:02.828250",
     "status": "completed"
    },
    "tags": []
   },
   "outputs": [
    {
     "data": {
      "text/html": [
       "<div>\n",
       "<style scoped>\n",
       "    .dataframe tbody tr th:only-of-type {\n",
       "        vertical-align: middle;\n",
       "    }\n",
       "\n",
       "    .dataframe tbody tr th {\n",
       "        vertical-align: top;\n",
       "    }\n",
       "\n",
       "    .dataframe thead th {\n",
       "        text-align: right;\n",
       "    }\n",
       "</style>\n",
       "<table border=\"1\" class=\"dataframe\">\n",
       "  <thead>\n",
       "    <tr style=\"text-align: right;\">\n",
       "      <th>category</th>\n",
       "      <th>Books</th>\n",
       "      <th>Clothing</th>\n",
       "      <th>Cosmetics</th>\n",
       "      <th>Food &amp; Beverage</th>\n",
       "      <th>Shoes</th>\n",
       "      <th>Souvenir</th>\n",
       "      <th>Technology</th>\n",
       "      <th>Toys</th>\n",
       "      <th>Total</th>\n",
       "    </tr>\n",
       "    <tr>\n",
       "      <th>quantity</th>\n",
       "      <th></th>\n",
       "      <th></th>\n",
       "      <th></th>\n",
       "      <th></th>\n",
       "      <th></th>\n",
       "      <th></th>\n",
       "      <th></th>\n",
       "      <th></th>\n",
       "      <th></th>\n",
       "    </tr>\n",
       "  </thead>\n",
       "  <tbody>\n",
       "    <tr>\n",
       "      <th>1</th>\n",
       "      <td>935</td>\n",
       "      <td>6480</td>\n",
       "      <td>2831</td>\n",
       "      <td>2834</td>\n",
       "      <td>1843</td>\n",
       "      <td>975</td>\n",
       "      <td>930</td>\n",
       "      <td>1891</td>\n",
       "      <td>18719</td>\n",
       "    </tr>\n",
       "    <tr>\n",
       "      <th>2</th>\n",
       "      <td>961</td>\n",
       "      <td>6597</td>\n",
       "      <td>2837</td>\n",
       "      <td>2748</td>\n",
       "      <td>1947</td>\n",
       "      <td>937</td>\n",
       "      <td>961</td>\n",
       "      <td>1860</td>\n",
       "      <td>18848</td>\n",
       "    </tr>\n",
       "    <tr>\n",
       "      <th>3</th>\n",
       "      <td>946</td>\n",
       "      <td>6567</td>\n",
       "      <td>2896</td>\n",
       "      <td>2845</td>\n",
       "      <td>1902</td>\n",
       "      <td>1018</td>\n",
       "      <td>950</td>\n",
       "      <td>1968</td>\n",
       "      <td>19092</td>\n",
       "    </tr>\n",
       "    <tr>\n",
       "      <th>4</th>\n",
       "      <td>902</td>\n",
       "      <td>6485</td>\n",
       "      <td>2880</td>\n",
       "      <td>2736</td>\n",
       "      <td>1923</td>\n",
       "      <td>873</td>\n",
       "      <td>953</td>\n",
       "      <td>1975</td>\n",
       "      <td>18727</td>\n",
       "    </tr>\n",
       "    <tr>\n",
       "      <th>5</th>\n",
       "      <td>974</td>\n",
       "      <td>6589</td>\n",
       "      <td>2908</td>\n",
       "      <td>2826</td>\n",
       "      <td>1910</td>\n",
       "      <td>948</td>\n",
       "      <td>945</td>\n",
       "      <td>1863</td>\n",
       "      <td>18963</td>\n",
       "    </tr>\n",
       "    <tr>\n",
       "      <th>Total</th>\n",
       "      <td>4718</td>\n",
       "      <td>32718</td>\n",
       "      <td>14352</td>\n",
       "      <td>13989</td>\n",
       "      <td>9525</td>\n",
       "      <td>4751</td>\n",
       "      <td>4739</td>\n",
       "      <td>9557</td>\n",
       "      <td>94349</td>\n",
       "    </tr>\n",
       "  </tbody>\n",
       "</table>\n",
       "</div>"
      ],
      "text/plain": [
       "category  Books  Clothing  Cosmetics  Food & Beverage  Shoes  Souvenir  \\\n",
       "quantity                                                                 \n",
       "1           935      6480       2831             2834   1843       975   \n",
       "2           961      6597       2837             2748   1947       937   \n",
       "3           946      6567       2896             2845   1902      1018   \n",
       "4           902      6485       2880             2736   1923       873   \n",
       "5           974      6589       2908             2826   1910       948   \n",
       "Total      4718     32718      14352            13989   9525      4751   \n",
       "\n",
       "category  Technology  Toys  Total  \n",
       "quantity                           \n",
       "1                930  1891  18719  \n",
       "2                961  1860  18848  \n",
       "3                950  1968  19092  \n",
       "4                953  1975  18727  \n",
       "5                945  1863  18963  \n",
       "Total           4739  9557  94349  "
      ]
     },
     "execution_count": 17,
     "metadata": {},
     "output_type": "execute_result"
    }
   ],
   "source": [
    "pd.crosstab(data.quantity, data.category, margins=True, margins_name=\"Total\")"
   ]
  },
  {
   "cell_type": "markdown",
   "id": "92d3d41e",
   "metadata": {
    "papermill": {
     "duration": 0.011518,
     "end_time": "2025-02-19T09:53:02.967477",
     "exception": false,
     "start_time": "2025-02-19T09:53:02.955959",
     "status": "completed"
    },
    "tags": []
   },
   "source": [
    "### What is the gender of customers?"
   ]
  },
  {
   "cell_type": "code",
   "execution_count": 18,
   "id": "7e4f8984",
   "metadata": {
    "execution": {
     "iopub.execute_input": "2025-02-19T09:53:02.993184Z",
     "iopub.status.busy": "2025-02-19T09:53:02.992810Z",
     "iopub.status.idle": "2025-02-19T09:53:03.006071Z",
     "shell.execute_reply": "2025-02-19T09:53:03.004197Z"
    },
    "papermill": {
     "duration": 0.02834,
     "end_time": "2025-02-19T09:53:03.007866",
     "exception": false,
     "start_time": "2025-02-19T09:53:02.979526",
     "status": "completed"
    },
    "tags": []
   },
   "outputs": [
    {
     "data": {
      "text/plain": [
       "array(['Female', 'Male'], dtype=object)"
      ]
     },
     "execution_count": 18,
     "metadata": {},
     "output_type": "execute_result"
    }
   ],
   "source": [
    "data.gender.unique()"
   ]
  },
  {
   "cell_type": "code",
   "execution_count": 19,
   "id": "41212077",
   "metadata": {
    "execution": {
     "iopub.execute_input": "2025-02-19T09:53:03.033465Z",
     "iopub.status.busy": "2025-02-19T09:53:03.033126Z",
     "iopub.status.idle": "2025-02-19T09:53:03.115253Z",
     "shell.execute_reply": "2025-02-19T09:53:03.113891Z"
    },
    "papermill": {
     "duration": 0.097603,
     "end_time": "2025-02-19T09:53:03.117620",
     "exception": false,
     "start_time": "2025-02-19T09:53:03.020017",
     "status": "completed"
    },
    "tags": []
   },
   "outputs": [
    {
     "data": {
      "text/html": [
       "<div>\n",
       "<style scoped>\n",
       "    .dataframe tbody tr th:only-of-type {\n",
       "        vertical-align: middle;\n",
       "    }\n",
       "\n",
       "    .dataframe tbody tr th {\n",
       "        vertical-align: top;\n",
       "    }\n",
       "\n",
       "    .dataframe thead th {\n",
       "        text-align: right;\n",
       "    }\n",
       "</style>\n",
       "<table border=\"1\" class=\"dataframe\">\n",
       "  <thead>\n",
       "    <tr style=\"text-align: right;\">\n",
       "      <th>category</th>\n",
       "      <th>Books</th>\n",
       "      <th>Clothing</th>\n",
       "      <th>Cosmetics</th>\n",
       "      <th>Food &amp; Beverage</th>\n",
       "      <th>Shoes</th>\n",
       "      <th>Souvenir</th>\n",
       "      <th>Technology</th>\n",
       "      <th>Toys</th>\n",
       "      <th>Total</th>\n",
       "    </tr>\n",
       "    <tr>\n",
       "      <th>gender</th>\n",
       "      <th></th>\n",
       "      <th></th>\n",
       "      <th></th>\n",
       "      <th></th>\n",
       "      <th></th>\n",
       "      <th></th>\n",
       "      <th></th>\n",
       "      <th></th>\n",
       "      <th></th>\n",
       "    </tr>\n",
       "  </thead>\n",
       "  <tbody>\n",
       "    <tr>\n",
       "      <th>Female</th>\n",
       "      <td>2753</td>\n",
       "      <td>19612</td>\n",
       "      <td>8619</td>\n",
       "      <td>8346</td>\n",
       "      <td>5652</td>\n",
       "      <td>2879</td>\n",
       "      <td>2838</td>\n",
       "      <td>5775</td>\n",
       "      <td>56474</td>\n",
       "    </tr>\n",
       "    <tr>\n",
       "      <th>Male</th>\n",
       "      <td>1965</td>\n",
       "      <td>13106</td>\n",
       "      <td>5733</td>\n",
       "      <td>5643</td>\n",
       "      <td>3873</td>\n",
       "      <td>1872</td>\n",
       "      <td>1901</td>\n",
       "      <td>3782</td>\n",
       "      <td>37875</td>\n",
       "    </tr>\n",
       "    <tr>\n",
       "      <th>Total</th>\n",
       "      <td>4718</td>\n",
       "      <td>32718</td>\n",
       "      <td>14352</td>\n",
       "      <td>13989</td>\n",
       "      <td>9525</td>\n",
       "      <td>4751</td>\n",
       "      <td>4739</td>\n",
       "      <td>9557</td>\n",
       "      <td>94349</td>\n",
       "    </tr>\n",
       "  </tbody>\n",
       "</table>\n",
       "</div>"
      ],
      "text/plain": [
       "category  Books  Clothing  Cosmetics  Food & Beverage  Shoes  Souvenir  \\\n",
       "gender                                                                   \n",
       "Female     2753     19612       8619             8346   5652      2879   \n",
       "Male       1965     13106       5733             5643   3873      1872   \n",
       "Total      4718     32718      14352            13989   9525      4751   \n",
       "\n",
       "category  Technology  Toys  Total  \n",
       "gender                             \n",
       "Female          2838  5775  56474  \n",
       "Male            1901  3782  37875  \n",
       "Total           4739  9557  94349  "
      ]
     },
     "execution_count": 19,
     "metadata": {},
     "output_type": "execute_result"
    }
   ],
   "source": [
    "pd.crosstab(data.gender, data.category, margins = True, margins_name = \"Total\")"
   ]
  },
  {
   "cell_type": "markdown",
   "id": "e2c4b8cd",
   "metadata": {
    "papermill": {
     "duration": 0.01271,
     "end_time": "2025-02-19T09:53:03.143293",
     "exception": false,
     "start_time": "2025-02-19T09:53:03.130583",
     "status": "completed"
    },
    "tags": []
   },
   "source": [
    "### Age distribution"
   ]
  },
  {
   "cell_type": "code",
   "execution_count": 20,
   "id": "b47f8ed8",
   "metadata": {
    "execution": {
     "iopub.execute_input": "2025-02-19T09:53:03.172083Z",
     "iopub.status.busy": "2025-02-19T09:53:03.171660Z",
     "iopub.status.idle": "2025-02-19T09:53:03.611311Z",
     "shell.execute_reply": "2025-02-19T09:53:03.610063Z"
    },
    "papermill": {
     "duration": 0.456281,
     "end_time": "2025-02-19T09:53:03.613177",
     "exception": false,
     "start_time": "2025-02-19T09:53:03.156896",
     "status": "completed"
    },
    "tags": []
   },
   "outputs": [
    {
     "name": "stderr",
     "output_type": "stream",
     "text": [
      "/usr/local/lib/python3.10/dist-packages/seaborn/_oldcore.py:1119: FutureWarning: use_inf_as_na option is deprecated and will be removed in a future version. Convert inf values to NaN before operating instead.\n",
      "  with pd.option_context('mode.use_inf_as_na', True):\n"
     ]
    },
    {
     "data": {
      "image/png": "[encoded data removed]",
      "text/plain": [
       "<Figure size 1400x800 with 1 Axes>"
      ]
     },
     "metadata": {},
     "output_type": "display_data"
    }
   ],
   "source": [
    "plt.figure(figsize = (14, 8))\n",
    "sns.histplot(data, x = \"age\")\n",
    "plt.title(\"Age Distribution\")\n",
    "plt.show()"
   ]
  },
  {
   "cell_type": "markdown",
   "id": "d36158c5",
   "metadata": {
    "papermill": {
     "duration": 0.014281,
     "end_time": "2025-02-19T09:53:03.641416",
     "exception": false,
     "start_time": "2025-02-19T09:53:03.627135",
     "status": "completed"
    },
    "tags": []
   },
   "source": [
    "## **Purchase Behavioral Segmentation**\n",
    "\n",
    "Segment based on what customers buy (category), how much they buy (quantity), and where they shop (shopping_mall), spending pattern (how much they spend - quantity * price)."
   ]
  },
  {
   "cell_type": "code",
   "execution_count": 21,
   "id": "cec4da6c",
   "metadata": {
    "execution": {
     "iopub.execute_input": "2025-02-19T09:53:03.671089Z",
     "iopub.status.busy": "2025-02-19T09:53:03.670605Z",
     "iopub.status.idle": "2025-02-19T09:53:03.677487Z",
     "shell.execute_reply": "2025-02-19T09:53:03.676202Z"
    },
    "papermill": {
     "duration": 0.024421,
     "end_time": "2025-02-19T09:53:03.679327",
     "exception": false,
     "start_time": "2025-02-19T09:53:03.654906",
     "status": "completed"
    },
    "tags": []
   },
   "outputs": [
    {
     "data": {
      "text/plain": [
       "Index(['invoice_no', 'customer_id', 'category', 'quantity', 'invoice date',\n",
       "       'price', 'shopping_mall', 'gender', 'age', 'payment_method',\n",
       "       'construction_year', 'area (sqm)', 'location', 'store_count'],\n",
       "      dtype='object')"
      ]
     },
     "execution_count": 21,
     "metadata": {},
     "output_type": "execute_result"
    }
   ],
   "source": [
    "data.columns"
   ]
  },
  {
   "cell_type": "markdown",
   "id": "23d70123",
   "metadata": {
    "papermill": {
     "duration": 0.012629,
     "end_time": "2025-02-19T09:53:03.705145",
     "exception": false,
     "start_time": "2025-02-19T09:53:03.692516",
     "status": "completed"
    },
    "tags": []
   },
   "source": [
    "### **Feature engineering**\n",
    "\n",
    "We need to multiply quantity with price to get the Sales amount for that transaction."
   ]
  },
  {
   "cell_type": "code",
   "execution_count": 22,
   "id": "1eb15171",
   "metadata": {
    "execution": {
     "iopub.execute_input": "2025-02-19T09:53:03.732862Z",
     "iopub.status.busy": "2025-02-19T09:53:03.732343Z",
     "iopub.status.idle": "2025-02-19T09:53:03.752298Z",
     "shell.execute_reply": "2025-02-19T09:53:03.751059Z"
    },
    "papermill": {
     "duration": 0.036317,
     "end_time": "2025-02-19T09:53:03.754473",
     "exception": false,
     "start_time": "2025-02-19T09:53:03.718156",
     "status": "completed"
    },
    "tags": []
   },
   "outputs": [
    {
     "data": {
      "text/html": [
       "<div>\n",
       "<style scoped>\n",
       "    .dataframe tbody tr th:only-of-type {\n",
       "        vertical-align: middle;\n",
       "    }\n",
       "\n",
       "    .dataframe tbody tr th {\n",
       "        vertical-align: top;\n",
       "    }\n",
       "\n",
       "    .dataframe thead th {\n",
       "        text-align: right;\n",
       "    }\n",
       "</style>\n",
       "<table border=\"1\" class=\"dataframe\">\n",
       "  <thead>\n",
       "    <tr style=\"text-align: right;\">\n",
       "      <th></th>\n",
       "      <th>invoice_no</th>\n",
       "      <th>customer_id</th>\n",
       "      <th>category</th>\n",
       "      <th>quantity</th>\n",
       "      <th>invoice date</th>\n",
       "      <th>price</th>\n",
       "      <th>shopping_mall</th>\n",
       "      <th>gender</th>\n",
       "      <th>age</th>\n",
       "      <th>payment_method</th>\n",
       "      <th>construction_year</th>\n",
       "      <th>area (sqm)</th>\n",
       "      <th>location</th>\n",
       "      <th>store_count</th>\n",
       "      <th>total_sales</th>\n",
       "    </tr>\n",
       "  </thead>\n",
       "  <tbody>\n",
       "    <tr>\n",
       "      <th>0</th>\n",
       "      <td>I138884</td>\n",
       "      <td>C241288</td>\n",
       "      <td>Clothing</td>\n",
       "      <td>5</td>\n",
       "      <td>05/08/2022</td>\n",
       "      <td>1500.40</td>\n",
       "      <td>South Coast Plaza</td>\n",
       "      <td>Female</td>\n",
       "      <td>28.0</td>\n",
       "      <td>Credit Card</td>\n",
       "      <td>1967</td>\n",
       "      <td>250000</td>\n",
       "      <td>Costa Mesa</td>\n",
       "      <td>270</td>\n",
       "      <td>7502.00</td>\n",
       "    </tr>\n",
       "    <tr>\n",
       "      <th>1</th>\n",
       "      <td>I317333</td>\n",
       "      <td>C111565</td>\n",
       "      <td>Shoes</td>\n",
       "      <td>3</td>\n",
       "      <td>12/12/2021</td>\n",
       "      <td>1800.51</td>\n",
       "      <td>Beverly Center</td>\n",
       "      <td>Male</td>\n",
       "      <td>21.0</td>\n",
       "      <td>Debit Card</td>\n",
       "      <td>1982</td>\n",
       "      <td>111000</td>\n",
       "      <td>Los Angeles</td>\n",
       "      <td>160</td>\n",
       "      <td>5401.53</td>\n",
       "    </tr>\n",
       "    <tr>\n",
       "      <th>2</th>\n",
       "      <td>I127801</td>\n",
       "      <td>C266599</td>\n",
       "      <td>Clothing</td>\n",
       "      <td>1</td>\n",
       "      <td>09/11/2021</td>\n",
       "      <td>300.08</td>\n",
       "      <td>Westfield Century City</td>\n",
       "      <td>Male</td>\n",
       "      <td>20.0</td>\n",
       "      <td>Cash</td>\n",
       "      <td>1964</td>\n",
       "      <td>133000</td>\n",
       "      <td>Los Angeles</td>\n",
       "      <td>200</td>\n",
       "      <td>300.08</td>\n",
       "    </tr>\n",
       "    <tr>\n",
       "      <th>3</th>\n",
       "      <td>I173702</td>\n",
       "      <td>C988172</td>\n",
       "      <td>Shoes</td>\n",
       "      <td>5</td>\n",
       "      <td>05/16/2021</td>\n",
       "      <td>3000.85</td>\n",
       "      <td>Stanford Shopping Center</td>\n",
       "      <td>Female</td>\n",
       "      <td>66.0</td>\n",
       "      <td>Credit Card</td>\n",
       "      <td>1956</td>\n",
       "      <td>120000</td>\n",
       "      <td>Palo Alto</td>\n",
       "      <td>140</td>\n",
       "      <td>15004.25</td>\n",
       "    </tr>\n",
       "    <tr>\n",
       "      <th>4</th>\n",
       "      <td>I337046</td>\n",
       "      <td>C189076</td>\n",
       "      <td>Books</td>\n",
       "      <td>4</td>\n",
       "      <td>10/24/2021</td>\n",
       "      <td>60.60</td>\n",
       "      <td>South Coast Plaza</td>\n",
       "      <td>Female</td>\n",
       "      <td>53.0</td>\n",
       "      <td>Cash</td>\n",
       "      <td>1967</td>\n",
       "      <td>250000</td>\n",
       "      <td>Costa Mesa</td>\n",
       "      <td>270</td>\n",
       "      <td>242.40</td>\n",
       "    </tr>\n",
       "  </tbody>\n",
       "</table>\n",
       "</div>"
      ],
      "text/plain": [
       "  invoice_no customer_id  category  quantity invoice date    price  \\\n",
       "0    I138884     C241288  Clothing         5   05/08/2022  1500.40   \n",
       "1    I317333     C111565     Shoes         3   12/12/2021  1800.51   \n",
       "2    I127801     C266599  Clothing         1   09/11/2021   300.08   \n",
       "3    I173702     C988172     Shoes         5   05/16/2021  3000.85   \n",
       "4    I337046     C189076     Books         4   10/24/2021    60.60   \n",
       "\n",
       "              shopping_mall  gender   age payment_method  construction_year  \\\n",
       "0         South Coast Plaza  Female  28.0    Credit Card               1967   \n",
       "1            Beverly Center    Male  21.0     Debit Card               1982   \n",
       "2    Westfield Century City    Male  20.0           Cash               1964   \n",
       "3  Stanford Shopping Center  Female  66.0    Credit Card               1956   \n",
       "4         South Coast Plaza  Female  53.0           Cash               1967   \n",
       "\n",
       "   area (sqm)     location  store_count  total_sales  \n",
       "0      250000   Costa Mesa          270      7502.00  \n",
       "1      111000  Los Angeles          160      5401.53  \n",
       "2      133000  Los Angeles          200       300.08  \n",
       "3      120000    Palo Alto          140     15004.25  \n",
       "4      250000   Costa Mesa          270       242.40  "
      ]
     },
     "execution_count": 22,
     "metadata": {},
     "output_type": "execute_result"
    }
   ],
   "source": [
    "data[\"total_sales\"] = data[\"quantity\"] * data[\"price\"]\n",
    "data.head()"
   ]
  },
  {
   "cell_type": "code",
   "execution_count": 23,
   "id": "05cd9cb2",
   "metadata": {
    "execution": {
     "iopub.execute_input": "2025-02-19T09:53:03.782405Z",
     "iopub.status.busy": "2025-02-19T09:53:03.781969Z",
     "iopub.status.idle": "2025-02-19T09:53:08.154198Z",
     "shell.execute_reply": "2025-02-19T09:53:08.152641Z"
    },
    "papermill": {
     "duration": 4.388635,
     "end_time": "2025-02-19T09:53:08.156268",
     "exception": false,
     "start_time": "2025-02-19T09:53:03.767633",
     "status": "completed"
    },
    "tags": []
   },
   "outputs": [
    {
     "data": {
      "image/png": "[encoded data removed]",
      "text/plain": [
       "<Figure size 1200x600 with 1 Axes>"
      ]
     },
     "metadata": {},
     "output_type": "display_data"
    }
   ],
   "source": [
    "plt.figure(figsize = (12, 6))\n",
    "sns.scatterplot(data, x = \"total_sales\", y = \"price\", hue = \"quantity\")\n",
    "plt.title(\"Total Sales vs Price\")\n",
    "plt.ylabel(\"Price\")\n",
    "plt.xlabel(\"Total Sales\")\n",
    "plt.show()"
   ]
  },
  {
   "cell_type": "markdown",
   "id": "2d0bebf8",
   "metadata": {
    "papermill": {
     "duration": 0.013269,
     "end_time": "2025-02-19T09:53:08.183751",
     "exception": false,
     "start_time": "2025-02-19T09:53:08.170482",
     "status": "completed"
    },
    "tags": []
   },
   "source": [
    "Most customers bought low-priced products"
   ]
  },
  {
   "cell_type": "code",
   "execution_count": 24,
   "id": "c8cd4f64",
   "metadata": {
    "execution": {
     "iopub.execute_input": "2025-02-19T09:53:08.279424Z",
     "iopub.status.busy": "2025-02-19T09:53:08.278959Z",
     "iopub.status.idle": "2025-02-19T09:53:08.286648Z",
     "shell.execute_reply": "2025-02-19T09:53:08.285537Z"
    },
    "papermill": {
     "duration": 0.025057,
     "end_time": "2025-02-19T09:53:08.289151",
     "exception": false,
     "start_time": "2025-02-19T09:53:08.264094",
     "status": "completed"
    },
    "tags": []
   },
   "outputs": [],
   "source": [
    "#Select Features for Clustering\n",
    "features = data[[\"quantity\", \"total_sales\", \"age\", \"price\"]]"
   ]
  },
  {
   "cell_type": "code",
   "execution_count": 25,
   "id": "955530d6",
   "metadata": {
    "execution": {
     "iopub.execute_input": "2025-02-19T09:53:08.318387Z",
     "iopub.status.busy": "2025-02-19T09:53:08.317971Z",
     "iopub.status.idle": "2025-02-19T09:53:08.365337Z",
     "shell.execute_reply": "2025-02-19T09:53:08.364095Z"
    },
    "papermill": {
     "duration": 0.064623,
     "end_time": "2025-02-19T09:53:08.367763",
     "exception": false,
     "start_time": "2025-02-19T09:53:08.303140",
     "status": "completed"
    },
    "tags": []
   },
   "outputs": [],
   "source": [
    "# Normalize the data\n",
    "scaler = StandardScaler()\n",
    "scaled_features = scaler.fit_transform(features)"
   ]
  },
  {
   "cell_type": "code",
   "execution_count": 26,
   "id": "04c9e2d7",
   "metadata": {
    "execution": {
     "iopub.execute_input": "2025-02-19T09:53:08.401262Z",
     "iopub.status.busy": "2025-02-19T09:53:08.400805Z",
     "iopub.status.idle": "2025-02-19T09:53:08.851490Z",
     "shell.execute_reply": "2025-02-19T09:53:08.850497Z"
    },
    "papermill": {
     "duration": 0.470311,
     "end_time": "2025-02-19T09:53:08.854570",
     "exception": false,
     "start_time": "2025-02-19T09:53:08.384259",
     "status": "completed"
    },
    "tags": []
   },
   "outputs": [
    {
     "name": "stderr",
     "output_type": "stream",
     "text": [
      "/usr/local/lib/python3.10/dist-packages/sklearn/cluster/_kmeans.py:870: FutureWarning: The default value of `n_init` will change from 10 to 'auto' in 1.4. Set the value of `n_init` explicitly to suppress the warning\n",
      "  warnings.warn(\n"
     ]
    }
   ],
   "source": [
    "# Apply KMeans Clustering \n",
    "kmeans = KMeans(n_clusters=3, random_state=42)\n",
    "data['cluster'] = kmeans.fit_predict(scaled_features)"
   ]
  },
  {
   "cell_type": "code",
   "execution_count": 27,
   "id": "263d646b",
   "metadata": {
    "execution": {
     "iopub.execute_input": "2025-02-19T09:53:08.890869Z",
     "iopub.status.busy": "2025-02-19T09:53:08.890410Z",
     "iopub.status.idle": "2025-02-19T09:53:13.905533Z",
     "shell.execute_reply": "2025-02-19T09:53:13.904277Z"
    },
    "papermill": {
     "duration": 5.035004,
     "end_time": "2025-02-19T09:53:13.907789",
     "exception": false,
     "start_time": "2025-02-19T09:53:08.872785",
     "status": "completed"
    },
    "tags": []
   },
   "outputs": [
    {
     "data": {
      "image/png": "[encoded data removed]",
      "text/plain": [
       "<Figure size 1200x600 with 1 Axes>"
      ]
     },
     "metadata": {},
     "output_type": "display_data"
    }
   ],
   "source": [
    "# Visualize Clusters \n",
    "plt.figure(figsize = (12, 6))\n",
    "sns.scatterplot(\n",
    "    x = data['total_sales'],\n",
    "    y = data['quantity'],\n",
    "    hue = data['cluster'],\n",
    "    #style = data['quantity'],\n",
    "    palette ='viridis'\n",
    ")\n",
    "plt.title('Customer Segments Based on Spending and Quantity', weight = \"bold\")\n",
    "plt.xlabel('Total Sales')\n",
    "plt.ylabel('Quantity')\n",
    "plt.legend(title = 'Clusters')\n",
    "plt.show()"
   ]
  },
  {
   "cell_type": "code",
   "execution_count": 28,
   "id": "3df62ec9",
   "metadata": {
    "execution": {
     "iopub.execute_input": "2025-02-19T09:53:13.940155Z",
     "iopub.status.busy": "2025-02-19T09:53:13.939726Z",
     "iopub.status.idle": "2025-02-19T09:53:19.440861Z",
     "shell.execute_reply": "2025-02-19T09:53:19.439426Z"
    },
    "papermill": {
     "duration": 5.520058,
     "end_time": "2025-02-19T09:53:19.443479",
     "exception": false,
     "start_time": "2025-02-19T09:53:13.923421",
     "status": "completed"
    },
    "tags": []
   },
   "outputs": [
    {
     "data": {
      "image/png": "[encoded data removed]",
      "text/plain": [
       "<Figure size 1200x600 with 1 Axes>"
      ]
     },
     "metadata": {},
     "output_type": "display_data"
    }
   ],
   "source": [
    "plt.figure(figsize = (12, 6))\n",
    "sns.scatterplot(data, x = \"total_sales\", y = \"price\", hue = \"cluster\", size = \"quantity\", sizes=(20, 200), palette = \"viridis\")\n",
    "plt.title(\"Customer Segmentation Based on Spending\", weight = \"bold\", fontsize = 14)\n",
    "plt.ylabel(\"Price\", fontsize = 12)\n",
    "plt.xlabel(\"Total Sales\", fontsize = 12)\n",
    "plt.show()"
   ]
  },
  {
   "cell_type": "markdown",
   "id": "5a6432fd",
   "metadata": {
    "papermill": {
     "duration": 0.01683,
     "end_time": "2025-02-19T09:53:19.477738",
     "exception": false,
     "start_time": "2025-02-19T09:53:19.460908",
     "status": "completed"
    },
    "tags": []
   },
   "source": [
    "### **Spending pattern and price Sensitivity**"
   ]
  },
  {
   "cell_type": "code",
   "execution_count": 29,
   "id": "cc427d75",
   "metadata": {
    "execution": {
     "iopub.execute_input": "2025-02-19T09:53:19.511802Z",
     "iopub.status.busy": "2025-02-19T09:53:19.511404Z",
     "iopub.status.idle": "2025-02-19T09:53:19.552657Z",
     "shell.execute_reply": "2025-02-19T09:53:19.551000Z"
    },
    "papermill": {
     "duration": 0.060474,
     "end_time": "2025-02-19T09:53:19.554833",
     "exception": false,
     "start_time": "2025-02-19T09:53:19.494359",
     "status": "completed"
    },
    "tags": []
   },
   "outputs": [
    {
     "name": "stdout",
     "output_type": "stream",
     "text": [
      "Cluster Summary:\n",
      "    cluster  avg_total_sales  customer_count    avg_age    avg_price  \\\n",
      "0        0      1116.119831           40608  30.474069   398.520083   \n",
      "1        1      1115.233426           40056  56.550230   397.442854   \n",
      "2        2     10857.918232           13685  43.535038  2406.856294   \n",
      "\n",
      "   min_price  max_price  avg_quantity  min_quantity  max_quantity  \n",
      "0       5.23     2100.0      2.737195             1             5  \n",
      "1       5.23     2100.0      2.732250             1             5  \n",
      "2    1500.40     5250.0      4.590354             3             5  \n"
     ]
    }
   ],
   "source": [
    "# Analysis of Clusters for spending level, buying behavior and age distribution\n",
    "cluster_summary = data.groupby('cluster').agg(\n",
    "    avg_total_sales = ('total_sales', 'mean'),\n",
    "    customer_count = ('customer_id', 'count'),\n",
    "    avg_age=('age', 'mean'),\n",
    "    avg_price = ('price', 'mean'),\n",
    "    min_price = ('price', 'min'),\n",
    "    max_price = ('price', 'max'),\n",
    "    avg_quantity = ('quantity', 'mean'),\n",
    "    min_quantity = ('quantity', 'min'),\n",
    "    max_quantity = ('quantity', 'max')\n",
    ").reset_index()\n",
    "\n",
    "print(\"Cluster Summary:\\n\", cluster_summary)"
   ]
  },
  {
   "cell_type": "markdown",
   "id": "68564f56",
   "metadata": {
    "papermill": {
     "duration": 0.015928,
     "end_time": "2025-02-19T09:53:19.587319",
     "exception": false,
     "start_time": "2025-02-19T09:53:19.571391",
     "status": "completed"
    },
    "tags": []
   },
   "source": [
    "### **Where do customers shop?**\n",
    "\n",
    "Is small location influencing sales?"
   ]
  },
  {
   "cell_type": "code",
   "execution_count": 30,
   "id": "17762bf3",
   "metadata": {
    "execution": {
     "iopub.execute_input": "2025-02-19T09:53:19.621227Z",
     "iopub.status.busy": "2025-02-19T09:53:19.620568Z",
     "iopub.status.idle": "2025-02-19T09:53:19.695293Z",
     "shell.execute_reply": "2025-02-19T09:53:19.693904Z"
    },
    "papermill": {
     "duration": 0.094351,
     "end_time": "2025-02-19T09:53:19.697601",
     "exception": false,
     "start_time": "2025-02-19T09:53:19.603250",
     "status": "completed"
    },
    "tags": []
   },
   "outputs": [
    {
     "data": {
      "text/html": [
       "<div>\n",
       "<style scoped>\n",
       "    .dataframe tbody tr th:only-of-type {\n",
       "        vertical-align: middle;\n",
       "    }\n",
       "\n",
       "    .dataframe tbody tr th {\n",
       "        vertical-align: top;\n",
       "    }\n",
       "\n",
       "    .dataframe thead th {\n",
       "        text-align: right;\n",
       "    }\n",
       "</style>\n",
       "<table border=\"1\" class=\"dataframe\">\n",
       "  <thead>\n",
       "    <tr style=\"text-align: right;\">\n",
       "      <th>cluster</th>\n",
       "      <th>0</th>\n",
       "      <th>1</th>\n",
       "      <th>2</th>\n",
       "      <th>Total</th>\n",
       "    </tr>\n",
       "    <tr>\n",
       "      <th>location</th>\n",
       "      <th></th>\n",
       "      <th></th>\n",
       "      <th></th>\n",
       "      <th></th>\n",
       "    </tr>\n",
       "  </thead>\n",
       "  <tbody>\n",
       "    <tr>\n",
       "      <th>Costa Mesa</th>\n",
       "      <td>8477</td>\n",
       "      <td>8437</td>\n",
       "      <td>2891</td>\n",
       "      <td>19805</td>\n",
       "    </tr>\n",
       "    <tr>\n",
       "      <th>Glendale</th>\n",
       "      <td>2143</td>\n",
       "      <td>2055</td>\n",
       "      <td>712</td>\n",
       "      <td>4910</td>\n",
       "    </tr>\n",
       "    <tr>\n",
       "      <th>Los Angeles</th>\n",
       "      <td>10593</td>\n",
       "      <td>10603</td>\n",
       "      <td>3548</td>\n",
       "      <td>24744</td>\n",
       "    </tr>\n",
       "    <tr>\n",
       "      <th>Palo Alto</th>\n",
       "      <td>4471</td>\n",
       "      <td>4226</td>\n",
       "      <td>1449</td>\n",
       "      <td>10146</td>\n",
       "    </tr>\n",
       "    <tr>\n",
       "      <th>San Diego</th>\n",
       "      <td>2139</td>\n",
       "      <td>2203</td>\n",
       "      <td>723</td>\n",
       "      <td>5065</td>\n",
       "    </tr>\n",
       "    <tr>\n",
       "      <th>Santa Clara</th>\n",
       "      <td>4226</td>\n",
       "      <td>4115</td>\n",
       "      <td>1424</td>\n",
       "      <td>9765</td>\n",
       "    </tr>\n",
       "    <tr>\n",
       "      <th>Torrance</th>\n",
       "      <td>8559</td>\n",
       "      <td>8417</td>\n",
       "      <td>2938</td>\n",
       "      <td>19914</td>\n",
       "    </tr>\n",
       "    <tr>\n",
       "      <th>Total</th>\n",
       "      <td>40608</td>\n",
       "      <td>40056</td>\n",
       "      <td>13685</td>\n",
       "      <td>94349</td>\n",
       "    </tr>\n",
       "  </tbody>\n",
       "</table>\n",
       "</div>"
      ],
      "text/plain": [
       "cluster          0      1      2  Total\n",
       "location                               \n",
       "Costa Mesa    8477   8437   2891  19805\n",
       "Glendale      2143   2055    712   4910\n",
       "Los Angeles  10593  10603   3548  24744\n",
       "Palo Alto     4471   4226   1449  10146\n",
       "San Diego     2139   2203    723   5065\n",
       "Santa Clara   4226   4115   1424   9765\n",
       "Torrance      8559   8417   2938  19914\n",
       "Total        40608  40056  13685  94349"
      ]
     },
     "execution_count": 30,
     "metadata": {},
     "output_type": "execute_result"
    }
   ],
   "source": [
    "pd.crosstab(data.location, data.cluster, margins = True, margins_name = \"Total\")"
   ]
  },
  {
   "cell_type": "code",
   "execution_count": 31,
   "id": "cea06e0f",
   "metadata": {
    "execution": {
     "iopub.execute_input": "2025-02-19T09:53:19.733420Z",
     "iopub.status.busy": "2025-02-19T09:53:19.733084Z",
     "iopub.status.idle": "2025-02-19T09:53:19.797036Z",
     "shell.execute_reply": "2025-02-19T09:53:19.795760Z"
    },
    "papermill": {
     "duration": 0.084264,
     "end_time": "2025-02-19T09:53:19.799275",
     "exception": false,
     "start_time": "2025-02-19T09:53:19.715011",
     "status": "completed"
    },
    "tags": []
   },
   "outputs": [
    {
     "data": {
      "text/html": [
       "<div>\n",
       "<style scoped>\n",
       "    .dataframe tbody tr th:only-of-type {\n",
       "        vertical-align: middle;\n",
       "    }\n",
       "\n",
       "    .dataframe tbody tr th {\n",
       "        vertical-align: top;\n",
       "    }\n",
       "\n",
       "    .dataframe thead th {\n",
       "        text-align: right;\n",
       "    }\n",
       "</style>\n",
       "<table border=\"1\" class=\"dataframe\">\n",
       "  <thead>\n",
       "    <tr style=\"text-align: right;\">\n",
       "      <th>cluster</th>\n",
       "      <th>0</th>\n",
       "      <th>1</th>\n",
       "      <th>2</th>\n",
       "      <th>Total</th>\n",
       "    </tr>\n",
       "    <tr>\n",
       "      <th>shopping_mall</th>\n",
       "      <th></th>\n",
       "      <th></th>\n",
       "      <th></th>\n",
       "      <th></th>\n",
       "    </tr>\n",
       "  </thead>\n",
       "  <tbody>\n",
       "    <tr>\n",
       "      <th>Beverly Center</th>\n",
       "      <td>2102</td>\n",
       "      <td>2121</td>\n",
       "      <td>720</td>\n",
       "      <td>4943</td>\n",
       "    </tr>\n",
       "    <tr>\n",
       "      <th>Del Amo Fashion Center</th>\n",
       "      <td>8559</td>\n",
       "      <td>8417</td>\n",
       "      <td>2938</td>\n",
       "      <td>19914</td>\n",
       "    </tr>\n",
       "    <tr>\n",
       "      <th>Fashion Valley</th>\n",
       "      <td>2139</td>\n",
       "      <td>2203</td>\n",
       "      <td>723</td>\n",
       "      <td>5065</td>\n",
       "    </tr>\n",
       "    <tr>\n",
       "      <th>Glendale Galleria</th>\n",
       "      <td>2143</td>\n",
       "      <td>2055</td>\n",
       "      <td>712</td>\n",
       "      <td>4910</td>\n",
       "    </tr>\n",
       "    <tr>\n",
       "      <th>South Coast Plaza</th>\n",
       "      <td>8477</td>\n",
       "      <td>8437</td>\n",
       "      <td>2891</td>\n",
       "      <td>19805</td>\n",
       "    </tr>\n",
       "    <tr>\n",
       "      <th>Stanford Shopping Center</th>\n",
       "      <td>4471</td>\n",
       "      <td>4226</td>\n",
       "      <td>1449</td>\n",
       "      <td>10146</td>\n",
       "    </tr>\n",
       "    <tr>\n",
       "      <th>The Grove</th>\n",
       "      <td>2072</td>\n",
       "      <td>2031</td>\n",
       "      <td>702</td>\n",
       "      <td>4805</td>\n",
       "    </tr>\n",
       "    <tr>\n",
       "      <th>Westfield Century City</th>\n",
       "      <td>6419</td>\n",
       "      <td>6451</td>\n",
       "      <td>2126</td>\n",
       "      <td>14996</td>\n",
       "    </tr>\n",
       "    <tr>\n",
       "      <th>Westfield Valley Fair</th>\n",
       "      <td>4226</td>\n",
       "      <td>4115</td>\n",
       "      <td>1424</td>\n",
       "      <td>9765</td>\n",
       "    </tr>\n",
       "    <tr>\n",
       "      <th>Total</th>\n",
       "      <td>40608</td>\n",
       "      <td>40056</td>\n",
       "      <td>13685</td>\n",
       "      <td>94349</td>\n",
       "    </tr>\n",
       "  </tbody>\n",
       "</table>\n",
       "</div>"
      ],
      "text/plain": [
       "cluster                       0      1      2  Total\n",
       "shopping_mall                                       \n",
       "Beverly Center             2102   2121    720   4943\n",
       "Del Amo Fashion Center     8559   8417   2938  19914\n",
       "Fashion Valley             2139   2203    723   5065\n",
       "Glendale Galleria          2143   2055    712   4910\n",
       "South Coast Plaza          8477   8437   2891  19805\n",
       "Stanford Shopping Center   4471   4226   1449  10146\n",
       "The Grove                  2072   2031    702   4805\n",
       "Westfield Century City     6419   6451   2126  14996\n",
       "Westfield Valley Fair      4226   4115   1424   9765\n",
       "Total                     40608  40056  13685  94349"
      ]
     },
     "execution_count": 31,
     "metadata": {},
     "output_type": "execute_result"
    }
   ],
   "source": [
    "pd.crosstab(data.shopping_mall, data.cluster, margins = True, margins_name = \"Total\")"
   ]
  },
  {
   "cell_type": "code",
   "execution_count": 32,
   "id": "a7e37a33",
   "metadata": {
    "execution": {
     "iopub.execute_input": "2025-02-19T09:53:19.833741Z",
     "iopub.status.busy": "2025-02-19T09:53:19.833348Z",
     "iopub.status.idle": "2025-02-19T09:53:20.242844Z",
     "shell.execute_reply": "2025-02-19T09:53:20.241509Z"
    },
    "papermill": {
     "duration": 0.429406,
     "end_time": "2025-02-19T09:53:20.245128",
     "exception": false,
     "start_time": "2025-02-19T09:53:19.815722",
     "status": "completed"
    },
    "tags": []
   },
   "outputs": [
    {
     "data": {
      "image/png": "[encoded data removed]",
      "text/plain": [
       "<Figure size 1200x600 with 1 Axes>"
      ]
     },
     "metadata": {},
     "output_type": "display_data"
    }
   ],
   "source": [
    "plt.figure(figsize = (12, 6))\n",
    "sns.countplot(data = data, x = \"shopping_mall\", hue = \"cluster\")\n",
    "plt.title(\"Mall Preference\")\n",
    "plt.ylabel(\"Count of Customers\")\n",
    "plt.xlabel(\"\")\n",
    "plt.xticks(rotation = 45, ha = \"right\")\n",
    "plt.show()"
   ]
  },
  {
   "cell_type": "markdown",
   "id": "5f1c6fcd",
   "metadata": {
    "papermill": {
     "duration": 0.016624,
     "end_time": "2025-02-19T09:53:20.279977",
     "exception": false,
     "start_time": "2025-02-19T09:53:20.263353",
     "status": "completed"
    },
    "tags": []
   },
   "source": [
    "### Does the size of the shopping mall influence sales?"
   ]
  },
  {
   "cell_type": "code",
   "execution_count": 33,
   "id": "ba20bcba",
   "metadata": {
    "execution": {
     "iopub.execute_input": "2025-02-19T09:53:20.315556Z",
     "iopub.status.busy": "2025-02-19T09:53:20.315134Z",
     "iopub.status.idle": "2025-02-19T09:53:20.321175Z",
     "shell.execute_reply": "2025-02-19T09:53:20.319888Z"
    },
    "papermill": {
     "duration": 0.025998,
     "end_time": "2025-02-19T09:53:20.323038",
     "exception": false,
     "start_time": "2025-02-19T09:53:20.297040",
     "status": "completed"
    },
    "tags": []
   },
   "outputs": [],
   "source": [
    "data.rename(columns = {\"area (sqm)\": \"area_sqm\"}, inplace = True)"
   ]
  },
  {
   "cell_type": "code",
   "execution_count": 34,
   "id": "3082bafa",
   "metadata": {
    "execution": {
     "iopub.execute_input": "2025-02-19T09:53:20.358445Z",
     "iopub.status.busy": "2025-02-19T09:53:20.358042Z",
     "iopub.status.idle": "2025-02-19T09:53:20.411612Z",
     "shell.execute_reply": "2025-02-19T09:53:20.410290Z"
    },
    "papermill": {
     "duration": 0.073568,
     "end_time": "2025-02-19T09:53:20.413525",
     "exception": false,
     "start_time": "2025-02-19T09:53:20.339957",
     "status": "completed"
    },
    "tags": []
   },
   "outputs": [
    {
     "data": {
      "text/html": [
       "<div>\n",
       "<style scoped>\n",
       "    .dataframe tbody tr th:only-of-type {\n",
       "        vertical-align: middle;\n",
       "    }\n",
       "\n",
       "    .dataframe tbody tr th {\n",
       "        vertical-align: top;\n",
       "    }\n",
       "\n",
       "    .dataframe thead th {\n",
       "        text-align: right;\n",
       "    }\n",
       "</style>\n",
       "<table border=\"1\" class=\"dataframe\">\n",
       "  <thead>\n",
       "    <tr style=\"text-align: right;\">\n",
       "      <th>cluster</th>\n",
       "      <th>0</th>\n",
       "      <th>1</th>\n",
       "      <th>2</th>\n",
       "      <th>Total</th>\n",
       "    </tr>\n",
       "    <tr>\n",
       "      <th>area_sqm</th>\n",
       "      <th></th>\n",
       "      <th></th>\n",
       "      <th></th>\n",
       "      <th></th>\n",
       "    </tr>\n",
       "  </thead>\n",
       "  <tbody>\n",
       "    <tr>\n",
       "      <th>56000</th>\n",
       "      <td>2072</td>\n",
       "      <td>2031</td>\n",
       "      <td>702</td>\n",
       "      <td>4805</td>\n",
       "    </tr>\n",
       "    <tr>\n",
       "      <th>111000</th>\n",
       "      <td>2102</td>\n",
       "      <td>2121</td>\n",
       "      <td>720</td>\n",
       "      <td>4943</td>\n",
       "    </tr>\n",
       "    <tr>\n",
       "      <th>120000</th>\n",
       "      <td>4471</td>\n",
       "      <td>4226</td>\n",
       "      <td>1449</td>\n",
       "      <td>10146</td>\n",
       "    </tr>\n",
       "    <tr>\n",
       "      <th>133000</th>\n",
       "      <td>6419</td>\n",
       "      <td>6451</td>\n",
       "      <td>2126</td>\n",
       "      <td>14996</td>\n",
       "    </tr>\n",
       "    <tr>\n",
       "      <th>145000</th>\n",
       "      <td>2143</td>\n",
       "      <td>2055</td>\n",
       "      <td>712</td>\n",
       "      <td>4910</td>\n",
       "    </tr>\n",
       "    <tr>\n",
       "      <th>161000</th>\n",
       "      <td>2139</td>\n",
       "      <td>2203</td>\n",
       "      <td>723</td>\n",
       "      <td>5065</td>\n",
       "    </tr>\n",
       "    <tr>\n",
       "      <th>220000</th>\n",
       "      <td>4226</td>\n",
       "      <td>4115</td>\n",
       "      <td>1424</td>\n",
       "      <td>9765</td>\n",
       "    </tr>\n",
       "    <tr>\n",
       "      <th>232000</th>\n",
       "      <td>8559</td>\n",
       "      <td>8417</td>\n",
       "      <td>2938</td>\n",
       "      <td>19914</td>\n",
       "    </tr>\n",
       "    <tr>\n",
       "      <th>250000</th>\n",
       "      <td>8477</td>\n",
       "      <td>8437</td>\n",
       "      <td>2891</td>\n",
       "      <td>19805</td>\n",
       "    </tr>\n",
       "    <tr>\n",
       "      <th>Total</th>\n",
       "      <td>40608</td>\n",
       "      <td>40056</td>\n",
       "      <td>13685</td>\n",
       "      <td>94349</td>\n",
       "    </tr>\n",
       "  </tbody>\n",
       "</table>\n",
       "</div>"
      ],
      "text/plain": [
       "cluster       0      1      2  Total\n",
       "area_sqm                            \n",
       "56000      2072   2031    702   4805\n",
       "111000     2102   2121    720   4943\n",
       "120000     4471   4226   1449  10146\n",
       "133000     6419   6451   2126  14996\n",
       "145000     2143   2055    712   4910\n",
       "161000     2139   2203    723   5065\n",
       "220000     4226   4115   1424   9765\n",
       "232000     8559   8417   2938  19914\n",
       "250000     8477   8437   2891  19805\n",
       "Total     40608  40056  13685  94349"
      ]
     },
     "execution_count": 34,
     "metadata": {},
     "output_type": "execute_result"
    }
   ],
   "source": [
    "pd.crosstab(data.area_sqm, data.cluster, margins = True, margins_name = \"Total\")"
   ]
  },
  {
   "cell_type": "code",
   "execution_count": 35,
   "id": "8d6d4df8",
   "metadata": {
    "execution": {
     "iopub.execute_input": "2025-02-19T09:53:20.450107Z",
     "iopub.status.busy": "2025-02-19T09:53:20.449653Z",
     "iopub.status.idle": "2025-02-19T09:53:22.142430Z",
     "shell.execute_reply": "2025-02-19T09:53:22.140888Z"
    },
    "papermill": {
     "duration": 1.713222,
     "end_time": "2025-02-19T09:53:22.144487",
     "exception": false,
     "start_time": "2025-02-19T09:53:20.431265",
     "status": "completed"
    },
    "tags": []
   },
   "outputs": [
    {
     "data": {
      "image/png": "[encoded data removed]",
      "text/plain": [
       "<Figure size 1200x600 with 1 Axes>"
      ]
     },
     "metadata": {},
     "output_type": "display_data"
    }
   ],
   "source": [
    "plt.figure(figsize = (12, 6))\n",
    "sns.barplot(data = data, x = \"area_sqm\", y = \"total_sales\", hue = \"cluster\")\n",
    "plt.title(\"Sales by Mall Size\")\n",
    "plt.ylabel(\"Total Sales\")\n",
    "plt.xlabel(\"\")\n",
    "plt.xticks(rotation = 45, ha = \"right\")\n",
    "plt.show()"
   ]
  },
  {
   "cell_type": "code",
   "execution_count": 36,
   "id": "0362c2e2",
   "metadata": {
    "execution": {
     "iopub.execute_input": "2025-02-19T09:53:22.183283Z",
     "iopub.status.busy": "2025-02-19T09:53:22.182855Z",
     "iopub.status.idle": "2025-02-19T09:53:22.237168Z",
     "shell.execute_reply": "2025-02-19T09:53:22.235810Z"
    },
    "papermill": {
     "duration": 0.076277,
     "end_time": "2025-02-19T09:53:22.239208",
     "exception": false,
     "start_time": "2025-02-19T09:53:22.162931",
     "status": "completed"
    },
    "tags": []
   },
   "outputs": [
    {
     "data": {
      "text/html": [
       "<div>\n",
       "<style scoped>\n",
       "    .dataframe tbody tr th:only-of-type {\n",
       "        vertical-align: middle;\n",
       "    }\n",
       "\n",
       "    .dataframe tbody tr th {\n",
       "        vertical-align: top;\n",
       "    }\n",
       "\n",
       "    .dataframe thead th {\n",
       "        text-align: right;\n",
       "    }\n",
       "</style>\n",
       "<table border=\"1\" class=\"dataframe\">\n",
       "  <thead>\n",
       "    <tr style=\"text-align: right;\">\n",
       "      <th>cluster</th>\n",
       "      <th>0</th>\n",
       "      <th>1</th>\n",
       "      <th>2</th>\n",
       "      <th>Total</th>\n",
       "    </tr>\n",
       "    <tr>\n",
       "      <th>store_count</th>\n",
       "      <th></th>\n",
       "      <th></th>\n",
       "      <th></th>\n",
       "      <th></th>\n",
       "    </tr>\n",
       "  </thead>\n",
       "  <tbody>\n",
       "    <tr>\n",
       "      <th>140</th>\n",
       "      <td>6543</td>\n",
       "      <td>6257</td>\n",
       "      <td>2151</td>\n",
       "      <td>14951</td>\n",
       "    </tr>\n",
       "    <tr>\n",
       "      <th>160</th>\n",
       "      <td>2102</td>\n",
       "      <td>2121</td>\n",
       "      <td>720</td>\n",
       "      <td>4943</td>\n",
       "    </tr>\n",
       "    <tr>\n",
       "      <th>180</th>\n",
       "      <td>2139</td>\n",
       "      <td>2203</td>\n",
       "      <td>723</td>\n",
       "      <td>5065</td>\n",
       "    </tr>\n",
       "    <tr>\n",
       "      <th>190</th>\n",
       "      <td>2143</td>\n",
       "      <td>2055</td>\n",
       "      <td>712</td>\n",
       "      <td>4910</td>\n",
       "    </tr>\n",
       "    <tr>\n",
       "      <th>200</th>\n",
       "      <td>6419</td>\n",
       "      <td>6451</td>\n",
       "      <td>2126</td>\n",
       "      <td>14996</td>\n",
       "    </tr>\n",
       "    <tr>\n",
       "      <th>220</th>\n",
       "      <td>8559</td>\n",
       "      <td>8417</td>\n",
       "      <td>2938</td>\n",
       "      <td>19914</td>\n",
       "    </tr>\n",
       "    <tr>\n",
       "      <th>230</th>\n",
       "      <td>4226</td>\n",
       "      <td>4115</td>\n",
       "      <td>1424</td>\n",
       "      <td>9765</td>\n",
       "    </tr>\n",
       "    <tr>\n",
       "      <th>270</th>\n",
       "      <td>8477</td>\n",
       "      <td>8437</td>\n",
       "      <td>2891</td>\n",
       "      <td>19805</td>\n",
       "    </tr>\n",
       "    <tr>\n",
       "      <th>Total</th>\n",
       "      <td>40608</td>\n",
       "      <td>40056</td>\n",
       "      <td>13685</td>\n",
       "      <td>94349</td>\n",
       "    </tr>\n",
       "  </tbody>\n",
       "</table>\n",
       "</div>"
      ],
      "text/plain": [
       "cluster          0      1      2  Total\n",
       "store_count                            \n",
       "140           6543   6257   2151  14951\n",
       "160           2102   2121    720   4943\n",
       "180           2139   2203    723   5065\n",
       "190           2143   2055    712   4910\n",
       "200           6419   6451   2126  14996\n",
       "220           8559   8417   2938  19914\n",
       "230           4226   4115   1424   9765\n",
       "270           8477   8437   2891  19805\n",
       "Total        40608  40056  13685  94349"
      ]
     },
     "execution_count": 36,
     "metadata": {},
     "output_type": "execute_result"
    }
   ],
   "source": [
    "pd.crosstab(data.store_count, data.cluster, margins = True, margins_name = \"Total\")"
   ]
  },
  {
   "cell_type": "code",
   "execution_count": 37,
   "id": "af12914c",
   "metadata": {
    "execution": {
     "iopub.execute_input": "2025-02-19T09:53:22.277442Z",
     "iopub.status.busy": "2025-02-19T09:53:22.277027Z",
     "iopub.status.idle": "2025-02-19T09:53:22.305499Z",
     "shell.execute_reply": "2025-02-19T09:53:22.303937Z"
    },
    "papermill": {
     "duration": 0.05016,
     "end_time": "2025-02-19T09:53:22.307599",
     "exception": false,
     "start_time": "2025-02-19T09:53:22.257439",
     "status": "completed"
    },
    "tags": []
   },
   "outputs": [
    {
     "name": "stdout",
     "output_type": "stream",
     "text": [
      "mall_summary:\n",
      "    cluster  customer_count   no_stores\n",
      "0        0           40608  208.630812\n",
      "1        1           40056  208.925255\n",
      "2        2           13685  209.090976\n"
     ]
    }
   ],
   "source": [
    "mall_summary = data.groupby(\"cluster\").agg(\n",
    "    customer_count = ('customer_id', 'count'), \n",
    "    no_stores = (\"store_count\", \"mean\")).reset_index()\n",
    "\n",
    "print(\"mall_summary:\\n\", mall_summary)"
   ]
  },
  {
   "cell_type": "markdown",
   "id": "0ba7d8d1",
   "metadata": {
    "papermill": {
     "duration": 0.019231,
     "end_time": "2025-02-19T09:53:22.346598",
     "exception": false,
     "start_time": "2025-02-19T09:53:22.327367",
     "status": "completed"
    },
    "tags": []
   },
   "source": [
    "### **Product preferences**"
   ]
  },
  {
   "cell_type": "code",
   "execution_count": 38,
   "id": "44764d89",
   "metadata": {
    "execution": {
     "iopub.execute_input": "2025-02-19T09:53:22.388427Z",
     "iopub.status.busy": "2025-02-19T09:53:22.388030Z",
     "iopub.status.idle": "2025-02-19T09:53:22.452093Z",
     "shell.execute_reply": "2025-02-19T09:53:22.450766Z"
    },
    "papermill": {
     "duration": 0.087876,
     "end_time": "2025-02-19T09:53:22.454277",
     "exception": false,
     "start_time": "2025-02-19T09:53:22.366401",
     "status": "completed"
    },
    "tags": []
   },
   "outputs": [
    {
     "data": {
      "text/html": [
       "<div>\n",
       "<style scoped>\n",
       "    .dataframe tbody tr th:only-of-type {\n",
       "        vertical-align: middle;\n",
       "    }\n",
       "\n",
       "    .dataframe tbody tr th {\n",
       "        vertical-align: top;\n",
       "    }\n",
       "\n",
       "    .dataframe thead th {\n",
       "        text-align: right;\n",
       "    }\n",
       "</style>\n",
       "<table border=\"1\" class=\"dataframe\">\n",
       "  <thead>\n",
       "    <tr style=\"text-align: right;\">\n",
       "      <th>cluster</th>\n",
       "      <th>0</th>\n",
       "      <th>1</th>\n",
       "      <th>2</th>\n",
       "      <th>Total</th>\n",
       "    </tr>\n",
       "    <tr>\n",
       "      <th>category</th>\n",
       "      <th></th>\n",
       "      <th></th>\n",
       "      <th></th>\n",
       "      <th></th>\n",
       "    </tr>\n",
       "  </thead>\n",
       "  <tbody>\n",
       "    <tr>\n",
       "      <th>Books</th>\n",
       "      <td>2364</td>\n",
       "      <td>2354</td>\n",
       "      <td>0</td>\n",
       "      <td>4718</td>\n",
       "    </tr>\n",
       "    <tr>\n",
       "      <th>Clothing</th>\n",
       "      <td>13182</td>\n",
       "      <td>12947</td>\n",
       "      <td>6589</td>\n",
       "      <td>32718</td>\n",
       "    </tr>\n",
       "    <tr>\n",
       "      <th>Cosmetics</th>\n",
       "      <td>7127</td>\n",
       "      <td>7225</td>\n",
       "      <td>0</td>\n",
       "      <td>14352</td>\n",
       "    </tr>\n",
       "    <tr>\n",
       "      <th>Food &amp; Beverage</th>\n",
       "      <td>7090</td>\n",
       "      <td>6899</td>\n",
       "      <td>0</td>\n",
       "      <td>13989</td>\n",
       "    </tr>\n",
       "    <tr>\n",
       "      <th>Shoes</th>\n",
       "      <td>2619</td>\n",
       "      <td>2658</td>\n",
       "      <td>4248</td>\n",
       "      <td>9525</td>\n",
       "    </tr>\n",
       "    <tr>\n",
       "      <th>Souvenir</th>\n",
       "      <td>2408</td>\n",
       "      <td>2343</td>\n",
       "      <td>0</td>\n",
       "      <td>4751</td>\n",
       "    </tr>\n",
       "    <tr>\n",
       "      <th>Technology</th>\n",
       "      <td>986</td>\n",
       "      <td>905</td>\n",
       "      <td>2848</td>\n",
       "      <td>4739</td>\n",
       "    </tr>\n",
       "    <tr>\n",
       "      <th>Toys</th>\n",
       "      <td>4832</td>\n",
       "      <td>4725</td>\n",
       "      <td>0</td>\n",
       "      <td>9557</td>\n",
       "    </tr>\n",
       "    <tr>\n",
       "      <th>Total</th>\n",
       "      <td>40608</td>\n",
       "      <td>40056</td>\n",
       "      <td>13685</td>\n",
       "      <td>94349</td>\n",
       "    </tr>\n",
       "  </tbody>\n",
       "</table>\n",
       "</div>"
      ],
      "text/plain": [
       "cluster              0      1      2  Total\n",
       "category                                   \n",
       "Books             2364   2354      0   4718\n",
       "Clothing         13182  12947   6589  32718\n",
       "Cosmetics         7127   7225      0  14352\n",
       "Food & Beverage   7090   6899      0  13989\n",
       "Shoes             2619   2658   4248   9525\n",
       "Souvenir          2408   2343      0   4751\n",
       "Technology         986    905   2848   4739\n",
       "Toys              4832   4725      0   9557\n",
       "Total            40608  40056  13685  94349"
      ]
     },
     "execution_count": 38,
     "metadata": {},
     "output_type": "execute_result"
    }
   ],
   "source": [
    "pd.crosstab(data.category, data.cluster, margins = True, margins_name = \"Total\")"
   ]
  },
  {
   "cell_type": "code",
   "execution_count": 39,
   "id": "51cb6b61",
   "metadata": {
    "execution": {
     "iopub.execute_input": "2025-02-19T09:53:22.495005Z",
     "iopub.status.busy": "2025-02-19T09:53:22.494525Z",
     "iopub.status.idle": "2025-02-19T09:53:22.846721Z",
     "shell.execute_reply": "2025-02-19T09:53:22.845568Z"
    },
    "papermill": {
     "duration": 0.375116,
     "end_time": "2025-02-19T09:53:22.849213",
     "exception": false,
     "start_time": "2025-02-19T09:53:22.474097",
     "status": "completed"
    },
    "tags": []
   },
   "outputs": [
    {
     "data": {
      "image/png": "[encoded data removed]",
      "text/plain": [
       "<Figure size 1200x600 with 1 Axes>"
      ]
     },
     "metadata": {},
     "output_type": "display_data"
    }
   ],
   "source": [
    "plt.figure(figsize = (12, 6))\n",
    "sns.countplot(data = data, x = \"category\", hue = \"cluster\")\n",
    "plt.title(\"Custer Distribution by Category and Cluster\")\n",
    "plt.ylabel(\"Count of Customers\")\n",
    "plt.xlabel(\"\")\n",
    "plt.show()"
   ]
  },
  {
   "cell_type": "markdown",
   "id": "2d3a7eea",
   "metadata": {
    "papermill": {
     "duration": 0.018992,
     "end_time": "2025-02-19T09:53:22.888212",
     "exception": false,
     "start_time": "2025-02-19T09:53:22.869220",
     "status": "completed"
    },
    "tags": []
   },
   "source": [
    "### **Gender and age distribution**"
   ]
  },
  {
   "cell_type": "code",
   "execution_count": 40,
   "id": "57243f97",
   "metadata": {
    "execution": {
     "iopub.execute_input": "2025-02-19T09:53:22.930790Z",
     "iopub.status.busy": "2025-02-19T09:53:22.930315Z",
     "iopub.status.idle": "2025-02-19T09:53:23.004472Z",
     "shell.execute_reply": "2025-02-19T09:53:23.002363Z"
    },
    "papermill": {
     "duration": 0.09959,
     "end_time": "2025-02-19T09:53:23.007202",
     "exception": false,
     "start_time": "2025-02-19T09:53:22.907612",
     "status": "completed"
    },
    "tags": []
   },
   "outputs": [
    {
     "data": {
      "text/html": [
       "<div>\n",
       "<style scoped>\n",
       "    .dataframe tbody tr th:only-of-type {\n",
       "        vertical-align: middle;\n",
       "    }\n",
       "\n",
       "    .dataframe tbody tr th {\n",
       "        vertical-align: top;\n",
       "    }\n",
       "\n",
       "    .dataframe thead th {\n",
       "        text-align: right;\n",
       "    }\n",
       "</style>\n",
       "<table border=\"1\" class=\"dataframe\">\n",
       "  <thead>\n",
       "    <tr style=\"text-align: right;\">\n",
       "      <th>cluster</th>\n",
       "      <th>0</th>\n",
       "      <th>1</th>\n",
       "      <th>2</th>\n",
       "      <th>Total</th>\n",
       "    </tr>\n",
       "    <tr>\n",
       "      <th>gender</th>\n",
       "      <th></th>\n",
       "      <th></th>\n",
       "      <th></th>\n",
       "      <th></th>\n",
       "    </tr>\n",
       "  </thead>\n",
       "  <tbody>\n",
       "    <tr>\n",
       "      <th>Female</th>\n",
       "      <td>24266</td>\n",
       "      <td>24056</td>\n",
       "      <td>8152</td>\n",
       "      <td>56474</td>\n",
       "    </tr>\n",
       "    <tr>\n",
       "      <th>Male</th>\n",
       "      <td>16342</td>\n",
       "      <td>16000</td>\n",
       "      <td>5533</td>\n",
       "      <td>37875</td>\n",
       "    </tr>\n",
       "    <tr>\n",
       "      <th>Total</th>\n",
       "      <td>40608</td>\n",
       "      <td>40056</td>\n",
       "      <td>13685</td>\n",
       "      <td>94349</td>\n",
       "    </tr>\n",
       "  </tbody>\n",
       "</table>\n",
       "</div>"
      ],
      "text/plain": [
       "cluster      0      1      2  Total\n",
       "gender                             \n",
       "Female   24266  24056   8152  56474\n",
       "Male     16342  16000   5533  37875\n",
       "Total    40608  40056  13685  94349"
      ]
     },
     "execution_count": 40,
     "metadata": {},
     "output_type": "execute_result"
    }
   ],
   "source": [
    "pd.crosstab(data.gender, data.cluster, margins = True, margins_name = \"Total\")"
   ]
  },
  {
   "cell_type": "code",
   "execution_count": 41,
   "id": "a3c822ec",
   "metadata": {
    "execution": {
     "iopub.execute_input": "2025-02-19T09:53:23.047948Z",
     "iopub.status.busy": "2025-02-19T09:53:23.047411Z",
     "iopub.status.idle": "2025-02-19T09:53:23.067073Z",
     "shell.execute_reply": "2025-02-19T09:53:23.065477Z"
    },
    "papermill": {
     "duration": 0.042521,
     "end_time": "2025-02-19T09:53:23.069310",
     "exception": false,
     "start_time": "2025-02-19T09:53:23.026789",
     "status": "completed"
    },
    "tags": []
   },
   "outputs": [
    {
     "name": "stdout",
     "output_type": "stream",
     "text": [
      "Age distribution:\n",
      "    cluster  min_age  max_age    avg_age\n",
      "0        0     18.0     43.0  30.474069\n",
      "1        1     44.0     69.0  56.550230\n",
      "2        2     18.0     69.0  43.535038\n"
     ]
    }
   ],
   "source": [
    "age_distribution = data.groupby(\"cluster\").agg(\n",
    "    min_age = (\"age\", \"min\"),\n",
    "    max_age = (\"age\", \"max\"),\n",
    "    avg_age = (\"age\", \"mean\")).reset_index()\n",
    "\n",
    "print(\"Age distribution:\\n\", age_distribution)"
   ]
  },
  {
   "cell_type": "code",
   "execution_count": 42,
   "id": "9a506eda",
   "metadata": {
    "execution": {
     "iopub.execute_input": "2025-02-19T09:53:23.111571Z",
     "iopub.status.busy": "2025-02-19T09:53:23.111152Z",
     "iopub.status.idle": "2025-02-19T09:53:23.393445Z",
     "shell.execute_reply": "2025-02-19T09:53:23.391725Z"
    },
    "papermill": {
     "duration": 0.305177,
     "end_time": "2025-02-19T09:53:23.395527",
     "exception": false,
     "start_time": "2025-02-19T09:53:23.090350",
     "status": "completed"
    },
    "tags": []
   },
   "outputs": [
    {
     "data": {
      "image/png": "[encoded data removed]",
      "text/plain": [
       "<Figure size 640x480 with 1 Axes>"
      ]
     },
     "metadata": {},
     "output_type": "display_data"
    }
   ],
   "source": [
    "sns.countplot(data = data, x =\"gender\", hue =\"cluster\")\n",
    "plt.title(\"Gender Distribution in each Cluster\")\n",
    "plt.ylabel(\"Count of Customers\")\n",
    "plt.xlabel(\"\")\n",
    "plt.show()"
   ]
  },
  {
   "cell_type": "markdown",
   "id": "e95020a4",
   "metadata": {
    "papermill": {
     "duration": 0.019767,
     "end_time": "2025-02-19T09:53:23.435362",
     "exception": false,
     "start_time": "2025-02-19T09:53:23.415595",
     "status": "completed"
    },
    "tags": []
   },
   "source": [
    "## **Conclusions**\n",
    "\n",
    "### Customer Segments\n",
    "\n",
    "### **Category 1: Old budget-conscious low spenders**\n",
    "\n",
    "Cluster 0: These old price conscious customers buy between 1 and 5 low cost products from all categories. The minimum age in this category is 44 years old. They shop everywhere but will not buy any product costing more than $2,100. These customers are likely to respond well to price sensitive promotions such as discounts and coupons.\n",
    "\n",
    "### **Category 2: High spenders premium customers** \n",
    "\n",
    "Cluster 1: These customers are not price conscious. They buy high-cost products in large quantities and mainly prefer clothing, shoes and technology. They include customers from all age groups with an average age of 43.5 years. There are only few premium customers.\n",
    "\n",
    "### **Category 3: Young budget-conscious low spenders**\n",
    "\n",
    "Cluster 2: These are low spenders who buy all types of low-cost products in small or large quantities. They range from 18 years to 43 years old customers who will not buy any product costing more than $2,100. These customers are likely to respond well to price sensitive promotions such as discounts and coupons."
   ]
  },
  {
   "cell_type": "markdown",
   "id": "0361f216",
   "metadata": {
    "papermill": {
     "duration": 0.020152,
     "end_time": "2025-02-19T09:53:23.475493",
     "exception": false,
     "start_time": "2025-02-19T09:53:23.455341",
     "status": "completed"
    },
    "tags": []
   },
   "source": [
    "*author: frida*"
   ]
  }
 ],
 "metadata": {
  "kaggle": {
   "accelerator": "none",
   "dataSources": [
    {
     "datasetId": 6041369,
     "sourceId": 9849496,
     "sourceType": "datasetVersion"
    }
   ],
   "dockerImageVersionId": 30886,
   "isGpuEnabled": false,
   "isInternetEnabled": true,
   "language": "python",
   "sourceType": "notebook"
  },
  "kernelspec": {
   "display_name": "Python 3",
   "language": "python",
   "name": "python3"
  },
  "language_info": {
   "codemirror_mode": {
    "name": "ipython",
    "version": 3
   },
   "file_extension": ".py",
   "mimetype": "text/x-python",
   "name": "python",
   "nbconvert_exporter": "python",
   "pygments_lexer": "ipython3",
   "version": "3.10.12"
  },
  "papermill": {
   "default_parameters": {},
   "duration": 50.945942,
   "end_time": "2025-02-19T09:53:24.721725",
   "environment_variables": {},
   "exception": null,
   "input_path": "__notebook__.ipynb",
   "output_path": "__notebook__.ipynb",
   "parameters": {},
   "start_time": "2025-02-19T09:52:33.775783",
   "version": "2.6.0"
  }
 },
 "nbformat": 4,
 "nbformat_minor": 5
}
